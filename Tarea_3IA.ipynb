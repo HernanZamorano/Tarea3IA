{
  "cells": [
    {
      "cell_type": "markdown",
      "metadata": {
        "id": "sOEWO7Nj2up4"
      },
      "source": [
        "# Universidad de O'Higgins\n",
        "\n",
        "## Escuela de Ingeniería\n",
        "## COM4402: Introducción a Inteligencia Artificial\n",
        "\n",
        "### **Tarea 3: Redes Neuronales Convolucionales**\n",
        "\n",
        "### Estudiante: Hernán Zamorano Ibáñez\n",
        "\n",
        "El objetivo de esta tarea es implementar una Red Neuronal Convolucional que logre clasificar los labels correspondientes a la base de datos de manuscritos MNIST y la base de datos de imágenes pequeñas CIFAR-10. La tarea debe ser realizada en Python usando TensorFlow."
      ]
    },
    {
      "cell_type": "code",
      "execution_count": null,
      "metadata": {
        "id": "YBcJvhzbktIK"
      },
      "outputs": [],
      "source": [
        "\"\"\"Esta area configura el entorno Jupyter.\n",
        "Por favor, no modifique nada en esta celda.\n",
        "\"\"\"\n",
        "import os\n",
        "import sys\n",
        "import time\n",
        "\n",
        "# Importar módulos diversos\n",
        "from IPython.core.display import display, HTML"
      ]
    },
    {
      "cell_type": "code",
      "execution_count": null,
      "metadata": {
        "colab": {
          "base_uri": "https://localhost:8080/"
        },
        "id": "7e7hJHnJxGWP",
        "outputId": "df669409-6c4a-4a00-ed61-1e8db54bbf14"
      },
      "outputs": [
        {
          "output_type": "stream",
          "name": "stdout",
          "text": [
            "Requirement already satisfied: tabulate in /usr/local/lib/python3.10/dist-packages (0.9.0)\n"
          ]
        }
      ],
      "source": [
        "!pip install tabulate"
      ]
    },
    {
      "cell_type": "code",
      "execution_count": null,
      "metadata": {
        "id": "qJT769UKlMMl"
      },
      "outputs": [],
      "source": [
        "import os\n",
        "import numpy as np\n",
        "import tensorflow as tf\n",
        "import random\n",
        "from unittest.mock import MagicMock\n",
        "\n",
        "\n",
        "def _print_success_message():\n",
        "    print('Pruebas superadas.')\n",
        "    print('Puede pasar a la siguiente tarea.')\n",
        "\n",
        "def test_normalize_images(function):\n",
        "    test_numbers = np.array([0,127,255])\n",
        "    OUT = function(test_numbers)\n",
        "    test_shape = test_numbers.shape\n",
        "\n",
        "    assert type(OUT).__module__ == np.__name__,\\\n",
        "        'Not Numpy Object'\n",
        "\n",
        "    assert OUT.shape == test_shape,\\\n",
        "        'Incorrect Shape. {} shape found'.format(OUT.shape)\n",
        "    np.testing.assert_almost_equal(test_numbers/255, OUT)\n",
        "\n",
        "    _print_success_message()\n",
        "\n",
        "def test_one_hot(function):\n",
        "    test_numbers = np.arange(10)\n",
        "    number_classes = 10\n",
        "    OUT = function(test_numbers,number_classes)\n",
        "\n",
        "    awns = np.identity(number_classes)\n",
        "    test_shape = awns.shape\n",
        "\n",
        "    assert type(OUT).__module__ == np.__name__,\\\n",
        "        'Not Numpy Object'\n",
        "\n",
        "    assert OUT.shape == test_shape,\\\n",
        "        'Incorrect Shape. {} shape found'.format(OUT.shape)\n",
        "    np.testing.assert_almost_equal(awns, OUT)\n",
        "\n",
        "    _print_success_message()"
      ]
    },
    {
      "cell_type": "markdown",
      "metadata": {
        "id": "a6Nu6sG6ktIM"
      },
      "source": [
        "#Convolutional Neural Networks\n",
        "\n",
        "<div class=\"alert alert-warning\">\n",
        "En este notebook nos familiarizaremos con un tipo de *capa* para redes neuronales artificiales llamadas capas convolucionales. Los datos que intentaremos modelar utilizando este tipo de redes serán imágenes.\n",
        "</div>\n",
        "\n",
        "\n",
        "## Imágenes\n",
        "\n",
        "Para un computador, una imagen es una matriz de datos en la que cada píxel está representado por uno o varios valores:\n",
        "\n",
        "\n",
        "### Matriz con un valor por píxel = imágenes en escala de grises\n",
        "\n",
        "<img src=\"https://www.researchgate.net/publication/330902210/figure/fig1/AS:878026619375622@1586349267376/mage-of-Abraham-Lincoln-as-a-matrix-of-pixel-values.ppm\" alt=\"Grayscale Image\" width=\"700\">[image_source](http://openframeworks.cc/ofBook/chapters/image_processing_computer_vision.html)\n",
        "\n",
        "### Matriz con tres valores por píxel = imágenes en color\n",
        " <img src=\"https://raw.githubusercontent.com/vicolab/neural-network-intro/master/3-convnet/resources/color_images.png\" alt=\"Decomposition of a color image\" width=\"400\">[image_source](https://medium.com/@ageitgey/machine-learning-is-fun-part-3-deep-learning-and-convolutional-neural-networks-f40359318721)"
      ]
    },
    {
      "cell_type": "markdown",
      "metadata": {
        "id": "Dq3kGC3qktIN"
      },
      "source": [
        "# El Dataset MNIST\n",
        "\n",
        "La base de datos MNIST (Modified National Institute of Standards and Technology database) es un problema de clasificación multiclase en el que se nos pide que clasifiquemos un dígito ($0-9$) a partir de una imagen en escala de grises de $28\\times 28$:\n",
        "\n",
        ">La base de datos MNIST de dígitos escritos a mano, disponible en esta página, tiene un conjunto de entrenamiento de 60.000 ejemplos y un conjunto de prueba de 10.000 ejemplos. Es un subconjunto de un conjunto más amplio disponible en NIST. Los dígitos han sido normalizados en tamaño y centrados en una imagen de tamaño fijo.\n",
        "\n",
        ">Es una buena base de datos para las personas que quieren probar técnicas de aprendizaje y métodos de reconocimiento de patrones en datos del mundo real, dedicando un esfuerzo mínimo al preprocesamiento y al formateo.\n",
        "\n",
        "[Fuente](https://www.tensorflow.org/datasets/catalog/mnist?hl=es-419)\n",
        "\n",
        "En el siguiente ejemplo cargaremos datos de MNIST.\n",
        "\n",
        "* **input** $\\rightarrow$ 70000 muestras de vectores\n",
        "    * Cada vector tiene 784 dimensiones\n",
        "    * Aquí se presentan como matrices de $28\\times 28$ $\\rightarrow$ Imágenes en escala de grises\n",
        "* **target** $\\rightarrow$ 70000 enteros que indican un dígito de 0 a 9\n",
        "\n",
        "<div class=\"alert alert-info\">\n",
        "<strong>En el siguiente fragmento de código:</strong>\n",
        "<ul>\n",
        "  <li>Cargaremos la base de datos MNIST</li>\n",
        "  <li>Graficaremos la 5ª muestra del conjunto de entrenamiento</li>\n",
        "</ul>\n",
        "</div>"
      ]
    },
    {
      "cell_type": "code",
      "execution_count": null,
      "metadata": {
        "colab": {
          "base_uri": "https://localhost:8080/",
          "height": 691
        },
        "id": "cR69OkjKktIN",
        "outputId": "ca0db59d-dc75-4695-8a8f-c7ed35e5729c"
      },
      "outputs": [
        {
          "output_type": "stream",
          "name": "stdout",
          "text": [
            "Shape of x_train (60000, 28, 28)\n",
            "Shape of y_train (60000,)\n",
            "Shape of x_test (60000, 28, 28)\n",
            "Shape of y_test (60000,)\n"
          ]
        },
        {
          "output_type": "display_data",
          "data": {
            "text/plain": [
              "<Figure size 700x700 with 1 Axes>"
            ],
            "image/png": "[encoded data removed]"
          },
          "metadata": {}
        }
      ],
      "source": [
        "# Los gráficos se mostrarán dentro del Jupyter Notebook\n",
        "import matplotlib.pyplot as plt\n",
        "from matplotlib.ticker import MaxNLocator\n",
        "\n",
        "# NumPy es un paquete para manipular objetos de matriz de N dimensiones\n",
        "import numpy as np\n",
        "\n",
        "# Pandas es un paquete de análisis de datos\n",
        "import pandas as pd\n",
        "\n",
        "# Mnist wrapper\n",
        "from keras.datasets import mnist\n",
        "\n",
        "# Código para cargar la base de datos MNIST\n",
        "(x_train, y_train), (x_test, y_test) = mnist.load_data()\n",
        "\n",
        "# Imprimir la dimensionalidad de los datos\n",
        "print('Shape of x_train {}'.format(x_train.shape))\n",
        "print('Shape of y_train {}'.format(y_train.shape))\n",
        "print('Shape of x_test {}'.format(x_train.shape))\n",
        "print('Shape of y_test {}'.format(y_train.shape))\n",
        "\n",
        "\n",
        "# Código para graficar la 5ª muestra del conjunto de entrenamiento\n",
        "fig,ax1 = plt.subplots(1,1, figsize=(7, 7))\n",
        "\n",
        "ax1.imshow(x_train[5], cmap='gray')\n",
        "title = 'Target = {}'.format(y_train[5])\n",
        "ax1.set_title(title)\n",
        "ax1.grid(which='Major')\n",
        "ax1.xaxis.set_major_locator(MaxNLocator(28))\n",
        "ax1.yaxis.set_major_locator(MaxNLocator(28))\n",
        "fig.canvas.draw()\n",
        "time.sleep(0.1)"
      ]
    },
    {
      "cell_type": "markdown",
      "metadata": {
        "id": "8-EWrj3AktIO"
      },
      "source": [
        "## Preprocesamiento de datos\n",
        "\n",
        "Antes de empezar a clasificar los dígitos, tenemos que preprocesar los datos.\n",
        "\n",
        "La primera tarea es crear una función que normalice las imágenes de 8 bits de [0,255] a [0,1]:\n",
        "\n",
        "\n",
        "### Parte I:  Implementar una Función de Normalización de Imágenes\n",
        "<div class=\"alert alert-success\">\n",
        "**Tarea**: Implementar una función que normalice las imágenes al intervalo [0,1].\n",
        "<ul>\n",
        "  <li>Las entradas son números enteros en el intervalo [0,255]</li>\n",
        "  <li>Las salidas deben ser flotantes en el intervalo [0,1]</li>\n",
        "</ul>\n",
        "</div>"
      ]
    },
    {
      "cell_type": "code",
      "execution_count": null,
      "metadata": {
        "colab": {
          "base_uri": "https://localhost:8080/"
        },
        "id": "kWPxDG9TktIO",
        "outputId": "e261e2ce-5112-4177-8a26-9f75e25cd61c"
      },
      "outputs": [
        {
          "output_type": "stream",
          "name": "stdout",
          "text": [
            "Pruebas superadas.\n",
            "Puede pasar a la siguiente tarea.\n"
          ]
        }
      ],
      "source": [
        "def normalize_images(images):\n",
        "    images = images / 255.0\n",
        "    # Normalizar la imagen aquí\n",
        "\n",
        "    return images\n",
        "\n",
        "### *No* modificar las siguientes líneas ###\n",
        "test_normalize_images(normalize_images)\n",
        "\n",
        "# Normalizar los datos para su uso futuro\n",
        "x_train = normalize_images(x_train)\n",
        "x_test = normalize_images(x_test)"
      ]
    },
    {
      "cell_type": "markdown",
      "metadata": {
        "id": "clwDIT2lktIO"
      },
      "source": [
        "### Parte II:  Ampliar la dimensión de la entrada\n",
        "\n",
        "Cuando cargamos el conjunto de datos MNIST, cada dígito estaba representado por una matriz de tamaño $(28, 28)$. Sin embargo, la red neuronal artificial que vamos a construir utiliza el concepto de canales de color y mapas de características incluso para las imágenes en escala de grises. Esto significa que tenemos que transformar $(28, 28)$ en $(28, 28, 1)$.\n",
        "\n",
        "<div class=\"alert alert-success\">\n",
        "**Tarea**: Escribir una pieza de código que añada una nueva dimensión a `x_train` y `x_test`.\n",
        "<ul>\n",
        "  <li>La dimensionalidad de `x_train` debe ser $(60000, 28, 28, 1)$</li>\n",
        "  <li>La dimensionalidad de `x_test` debe ser $(10000, 28, 28, 1)$</li>\n",
        "</ul>\n",
        "    \n",
        "Echa un vistazo en [numpy.expand_dims()](https://docs.scipy.org/doc/numpy/reference/generated/numpy.expand_dims.html) para saber cómo se puede hacer esto.   \n",
        "</div>"
      ]
    },
    {
      "cell_type": "code",
      "execution_count": null,
      "metadata": {
        "colab": {
          "base_uri": "https://localhost:8080/"
        },
        "id": "5icwJcPpktIP",
        "outputId": "fda628a7-3812-4de2-c67a-b6824a72798d"
      },
      "outputs": [
        {
          "output_type": "stream",
          "name": "stdout",
          "text": [
            "Shape of x_train (60000, 28, 28, 1)\n",
            "Shape of y_train (60000,)\n",
            "Shape of x_test (10000, 28, 28, 1)\n",
            "Shape of y_test (10000,)\n"
          ]
        }
      ],
      "source": [
        "# Escribe aquí tu código\n",
        "#x_train = x_train.reshape(x_train.shape[0], 28, 28, 1)\n",
        "#x_test = x_test.reshape(x_test.shape[0], 28, 28, 1)\n",
        "# Cargamos los datos del conjunto MNIST\n",
        "(x_train, y_train), (x_test, y_test) = \\\n",
        "    tf.keras.datasets.mnist.load_data()\n",
        "\n",
        "# Codificar las etiquetas en caliente\n",
        "y_train_one_hot = tf.one_hot(y_train, 10)\n",
        "# Redimensionamos los datos para que tengan la dimensionalidad requerida\n",
        "x_train = x_train.reshape(x_train.shape[0], 28, 28, 1)\n",
        "x_test = x_test.reshape(x_test.shape[0], 28, 28, 1)\n",
        "\n",
        "### *No* modifique las siguientes lineas ###\n",
        "print('Shape of x_train {}'.format(x_train.shape))\n",
        "print('Shape of y_train {}'.format(y_train.shape))\n",
        "print('Shape of x_test {}'.format(x_test.shape))\n",
        "print('Shape of y_test {}'.format(y_test.shape))"
      ]
    },
    {
      "cell_type": "markdown",
      "metadata": {
        "id": "1Bzxb7huktIP"
      },
      "source": [
        "## Preprocesamiento de los labels\n",
        "\n",
        "Para clasificar nuestros dígitos tenemos que utilizar one-hot encoding para representar las salidas de los objetivos. One-hot encoding es una solución robusta y sencilla para representar objetivos multicategóricos.\n",
        "\n",
        "Esta codificación es una representación ideal para entrenar un modelo mediante el algoritmo de descenso de gradiente con la [función softmax](http://www.cs.toronto.edu/~guerzhoy/321/lec/W04/onehot.pdf).\n",
        "\n",
        "### Ejemplo de one-hot encoding\n",
        "\n",
        "Este es un ejemplo de cómo es un esquema de one-hot encoding:\n",
        "\n",
        "$$\n",
        "\\begin{equation*}\n",
        "\\mathbf{y} =\n",
        "\\left[ \\begin{array}{c} 2 \\\\ 8 \\\\ 0 \\\\ 6 \\\\ \\vdots\\end{array} \\right]\n",
        "\\Longrightarrow\n",
        "\\begin{bmatrix}\n",
        "  0 & 0 & 1 & 0 & 0 & 0 & 0 & 0 & 0 & 0\\\\\n",
        "  0 & 0 & 0 & 0 & 0 & 0 & 0 & 0 & 1 & 0\\\\\n",
        "  1 & 0 & 0 & 0 & 0 & 0 & 0 & 0 & 0 & 0\\\\\n",
        "  0 & 0 & 0 & 0 & 0 & 0 & 1 & 0 & 0 & 0\\\\\n",
        "  \\vdots & \\vdots & \\vdots & \\vdots & \\vdots & \\vdots & \\vdots & \\vdots & \\vdots & \\vdots\n",
        "\\end{bmatrix}\n",
        "\\end{equation*}\n",
        "$$\n",
        "\n",
        "En el lado izquierdo tenemos un vector de etiquetas objetivo $\\mathbf{y}$ con $K=10$ número de clases. En el lado derecho podemos ver la versión codificada one-hot del vector $\\mathbf{y}$ donde cada elemento $\\in \\mathbf{y}$ se ha transformado en un vector de filas $K$-dimensional. Sólo el elemento $\\mathbf{y}_i$ se ha fijado en 1, el resto son 0. Por ejemplo, el primer elemento de $\\mathbf{y}$ es 2, lo que significa que el vector codificado en un punto será todo ceros excepto la posición 2 (indexación 0). Del mismo modo, el tercer elemento de $\\mathbf{y}$ es 0, lo que significa que el vector codificado one-hot será todos los ceros a excepción de la posición 0.\n",
        "\n",
        "La idea central es transformar los datos multicategóricos en una combinación de varias clases simples. Al hacer esto podemos, para cada ejemplo, ver si pertenece a alguna clase, donde 1 indica que sí y 0 en caso contrario.\n",
        "\n",
        "\n",
        "### Parte 3:  Implemente una función para One-Hot Encoding\n",
        "\n",
        "<div class=\"alert alert-success\">\n",
        "**Tarea**: Implementar una función que codifique un vector de números en una matriz de $K$ clases:\n",
        "<ul>\n",
        "  <li>El primer argumento es un vector con $N$ muestras (dimensiones)</li>\n",
        "  <li>El segundo argumento es un número $K$ que significa el número de clases</li>\n",
        "  <li>Para cada muestra del vector se creará un array con $K$ dimensiones</li>\n",
        "  <li>La matriz codificada one-hot debe tener ceros en todas las posiciones excepto en la posición indicada por la muestra actual en el vector de entrada</li>\n",
        "</ul>\n",
        "</div>\n",
        "\n",
        "* Intenta implementar esta función por ti mismo. Si tienes dudas, pide ayuda\n",
        "* Si te quedas sin tiempo, utiliza `keras.utils.to_categorical(vector, number_classes)`"
      ]
    },
    {
      "cell_type": "code",
      "execution_count": null,
      "metadata": {
        "colab": {
          "base_uri": "https://localhost:8080/"
        },
        "id": "VyL7tvVKktIP",
        "outputId": "173280e9-dd88-4710-d93b-514e12eafb25"
      },
      "outputs": [
        {
          "output_type": "stream",
          "name": "stdout",
          "text": [
            "Pruebas superadas.\n",
            "Puede pasar a la siguiente tarea.\n"
          ]
        }
      ],
      "source": [
        "def one_hot(vector, number_classes):\n",
        "    \"\"\"Devuelve una matriz codificada one-hot dado el vector argumento.\n",
        "    \"\"\"\n",
        "    # Aquí almacenaremos nuestros one-hots\n",
        "    one_hot = []\n",
        "\n",
        "    # Aquí se codifica el 'vector' one-hot\n",
        "    for item in vector:\n",
        "      one_hot_encoded =[0]* number_classes\n",
        "      one_hot_encoded[item] = 1\n",
        "      one_hot.append(one_hot_encoded)\n",
        "\n",
        "    # Transformar la lista en una matriz numpy y retornarla\n",
        "    return np.array(one_hot)\n",
        "\n",
        "\n",
        "### *No* modifique las siguientes lineas ###\n",
        "test_one_hot(one_hot)\n",
        "\n",
        "# One-hot codifica los labels de MNIST\n",
        "y_train = one_hot (y_train, 10)\n",
        "y_test = one_hot(y_test, 10)"
      ]
    },
    {
      "cell_type": "markdown",
      "metadata": {
        "id": "9otf8JgRktIQ"
      },
      "source": [
        "Ahora que hemos añadido una dimensión adicional a los datos de entrada y que hemos codificado los valores objetivo como one-hot, vamos a ver las formas de las matrices de datos."
      ]
    },
    {
      "cell_type": "code",
      "execution_count": null,
      "metadata": {
        "colab": {
          "base_uri": "https://localhost:8080/"
        },
        "id": "uq2sjafMktIQ",
        "outputId": "1db7cb61-9643-4f26-cd4b-1c17f82f8380"
      },
      "outputs": [
        {
          "output_type": "stream",
          "name": "stdout",
          "text": [
            "Shape of x_train (60000, 28, 28, 1)\n",
            "Shape of y_train (60000, 10)\n",
            "Shape of x_test (60000, 28, 28, 1)\n",
            "Shape of y_test (60000, 10)\n"
          ]
        }
      ],
      "source": [
        "print('Shape of x_train {}'.format(x_train.shape))\n",
        "print('Shape of y_train {}'.format(y_train.shape))\n",
        "print('Shape of x_test {}'.format(x_train.shape))\n",
        "print('Shape of y_test {}'.format(y_train.shape))"
      ]
    },
    {
      "cell_type": "markdown",
      "metadata": {
        "id": "2STrOaQAktIQ"
      },
      "source": [
        "# Construir una Red Neuronal Artificial con Convoluciones y Max-Pooling\n",
        "\n",
        "\n",
        "## Convoluciones\n",
        "\n",
        "Si tienes un clasificador que consiste en reconocer gatos en una imagen, es posible que se quiera reconocer/clasificar al animal independientemente de su posición. Para ello, nos basamos en un hecho estadístico: las imágenes naturales son estacionarias [source](http://deeplearning.stanford.edu/wiki/index.php/Feature_extraction_using_convolution).\n",
        "\n",
        "Por lo tanto, si calculamos una estadística para algún lugar de la imagen de entrada, entonces esa estadística también podría ser valiosa para calcularla en algún otro lugar. Se puede aprovechar esta propiedad para definir pequeñas redes que aprendan características que puedan aplicarse a diferentes partes de una imagen.\n",
        "\n",
        "Las redes neuronales convolucionales emplean estos aspectos para crear redes neuronales muy eficaces.\n",
        "\n",
        "Si quiere ver un vídeo corto (con subtítulos) que explica los conceptos de las redes convolucionales, consulte el siguiente enlace de YouTube:\n",
        "\n",
        "* [Udacity - Convolutional Networks](https://www.youtube.com/watch?v=jajksuQW4mc)"
      ]
    },
    {
      "cell_type": "markdown",
      "metadata": {
        "id": "WfLmBUIfktIQ"
      },
      "source": [
        "### Sliding windows (ventanas deslizantes)\n",
        "\n",
        "Una ventana deslizante define una pequeña región de interés en una imagen.\n",
        "\n",
        "La región de interés se utiliza para escanear toda la imagen, como se muestra en la siguiente animación:\n",
        "\n",
        "<img src=\"https://pyimagesearch.com/wp-content/uploads/2014/10/sliding_window_example.gif\" alt=\"Sliding window on a greyscale image\" width=\"200\">\n",
        "\n",
        "\n",
        "Si utilizamos la ventana deslizante para definir cuál es la entrada que ve una pequeña red neuronal, tenemos la llamada convolución.\n",
        "\n",
        "\n",
        "Suponiendo que tenemos una imagen en color, y una pequeña red neuronal con $k$ salidas: para cada posición posible de la ventana deslizante tendremos $k$ salidas.\n",
        "\n",
        "\n",
        "<img src=\"https://raw.githubusercontent.com/vicolab/neural-network-intro/master/3-convnet/resources/conv.png\" alt=\"Output of a convolution at for a given sliding window placement\" width=\"300\">\n",
        "\n",
        "\n",
        "Una vez que la ventana deslizante ha escaneado toda la imagen, se obtiene una matriz tridimensional que puede investigarse más a fondo.\n",
        "\n",
        "\n",
        "<img src=\"https://raw.githubusercontent.com/vicolab/neural-network-intro/master/3-convnet/resources/conv2.png\" alt=\"Output of a convolution at for a given sliding window placement\" width=\"300\">"
      ]
    },
    {
      "cell_type": "markdown",
      "metadata": {
        "collapsed": true,
        "id": "W6aaCNSRktIQ"
      },
      "source": [
        "### Ejemplo de Convolución\n",
        "\n",
        "\n",
        "Supongamos que tenemos una imagen de $5 \\times 5=25$ píxeles:\n",
        "\n",
        "$$\n",
        "\\begin{equation*}\n",
        "\\begin{array}{|c|c|c|c|c|}\n",
        "  \\hline\n",
        "  1 & 1 & 1 & 0 & 0 \\\\\n",
        "  \\hline\n",
        "  0 & 1 & 1 & 1 & 0\\\\\n",
        "  \\hline\n",
        "  0 & 0 & 1 & 1 & 1\\\\\n",
        "  \\hline\n",
        "  0 & 0 & 1 & 1 & 0\\\\\n",
        "  \\hline\n",
        "  0 & 1 & 1 & 0 & 0\\\\\n",
        "  \\hline\n",
        "\\end{array}\n",
        "\\end{equation*}\n",
        "$$\n",
        "\n",
        "Supongamos que definimos una pequeña red neuronal que tiene pesos de $3 \\times 3$ y una única salida.\n",
        "La matriz de pesos es\n",
        "\n",
        "$$\n",
        "\\begin{equation*}\n",
        "\\begin{array}{|c|c|c|}\n",
        "  \\hline\n",
        "  1 & 0 & 1 \\\\\n",
        "  \\hline\n",
        "  0 & 1 & 0\\\\\n",
        "  \\hline\n",
        "  1 & 0 & 1\\\\\n",
        "  \\hline\n",
        "\\end{array}\n",
        "\\end{equation*}\n",
        "$$\n",
        "\n",
        "Al alimentar la red utilizando una ventana deslizante de $3 \\times 3$ obtenemos las siguientes características convolucionadas (también conocidas como mapa de características):\n",
        "\n",
        "$$\n",
        "\\begin{equation*}\n",
        "\\begin{array}{|c|c|c|}\n",
        "  \\hline\n",
        "  4 & 3 & 4 \\\\\n",
        "  \\hline\n",
        "  2 & 4 & 3\\\\\n",
        "  \\hline\n",
        "  2 & 3 & 4\\\\\n",
        "  \\hline\n",
        "\\end{array}\n",
        "\\end{equation*}\n",
        "$$\n",
        "\n",
        "\n",
        "<img src=\"https://raw.githubusercontent.com/vicolab/neural-network-intro/master/3-convnet/resources/Convolution_schematic.gif\" alt=\"Sliding window\" width=\"500\">\n",
        "\n",
        "[source](http://deeplearning.stanford.edu/wiki/index.php/Feature_extraction_using_convolution)\n",
        "\n",
        "El número de los llamados *mapas de características* producidos dependerá del número de salidas de la red neuronal. En este caso sólo tenemos un mapa de características.\n",
        "\n",
        "\n",
        "#### Stride y Padding\n",
        "\n",
        "Podemos utilizar padding y strides para controlar el tamaño de los mapas de características. A continuación se presentan cuatro animaciones que muestran la operación de convolución en una matriz de entrada utilizando diferentes paddings y strides:\n",
        "\n",
        "<table style=\"width:100%\">\n",
        "  <tr>\n",
        "    <td><img src=\"https://upload.wikimedia.org/wikipedia/commons/6/6c/Convolution_arithmetic_-_No_padding_no_strides.gif\" width=\"400\"></td>\n",
        "    <td><img src=\"https://upload.wikimedia.org/wikipedia/commons/b/b9/Convolution_arithmetic_-_No_padding_strides.gif\" width=\"400\"></td>\n",
        "    <td><img src=\"https://upload.wikimedia.org/wikipedia/commons/e/ee/Convolution_arithmetic_-_Same_padding_no_strides.gif\" width=\"400\"></td>\n",
        "    <td><img src=\"https://upload.wikimedia.org/wikipedia/commons/0/04/Convolution_arithmetic_-_Padding_strides.gif\" width=\"400\"></td>\n",
        "  </tr>\n",
        "  <tr>\n",
        "    <td>$padding = 0\\qquad stride = 1$</td>\n",
        "    <td>$padding = 0\\qquad stride = 2$</td>\n",
        "    <td>$padding = 1\\qquad stride = 1$</td>\n",
        "    <td>$padding = 1\\qquad stride = 2$</td>\n",
        "  </tr>\n",
        "</table>\n",
        "\n",
        "[source](https://github.com/vdumoulin/conv_arithmetic), [paper](https://arxiv.org/abs/1603.07285)\n",
        "\n",
        "En el caso de las imágenes, *padding* se traduce en el número de píxeles nuevos que introducimos alrededor del borde de una imagen, mientras que *stride* es la distancia a la que se desplaza el núcleo de convolución después de cada aplicación.\n",
        "\n",
        "Terminología menor vista en ciertos tipos de literatura:\n",
        "\n",
        "* **Padding válido** equivale a zero padding\n",
        "* **Mismo padding** significa que el padding utilizado es una función del tamaño del kernel para que el tamaño de salida tenga el mismo tamaño que el de entrada\n",
        "\n",
        "\n",
        "### Cálculo del tamaño de las convoluciones\n",
        "\n",
        "Para calcular el tamaño del mapa de características resultante de una convolución necesitamos conocer el tamaño de la entrada, el tamaño del núcleo (filtro), el stride y el padding:\n",
        "\n",
        "$$\n",
        "\\begin{equation*}\n",
        "output = \\frac{1}{stride} (input -  kernel + 2 * padding) + 1\n",
        "\\end{equation*}\n",
        "$$\n",
        "\n",
        "En el caso de las entradas bidimensionales, la altura y la anchura se pueden calcular así:\n",
        "\n",
        "$$\n",
        "\\begin{equation*}\n",
        "height_{new} =  \\frac{1}{stride} (height_{input} - height_{kernel} + 2 * padding)+1\n",
        "\\end{equation*}\n",
        "$$\n",
        "<br class=\"math\" />\n",
        "$$\n",
        "\\begin{equation*}\n",
        "widht_{new} =  \\frac{1}{stride} (widht_{input} - widht_{kernel} + 2 * padding)+1\n",
        "\\end{equation*}\n",
        "$$\n",
        "\n",
        "\n",
        "#### Ejemplo :\n",
        "\n",
        "Supongamos que tenemos una imagen de $6 \\times 6$. Si rellenamos esta imagen con un solo píxel y luego la convolucionamos con un núcleo de $3 \\times 3$ utilizando un stride de $2$, obtenemos el siguiente mapa de características (feature map) de $3 \\times 3$:\n",
        "\n",
        "<img src=\"https://raw.githubusercontent.com/vicolab/neural-network-intro/master/3-convnet/resources/odd.gif\" alt=\"Examples math\" width=\"300\">\n",
        "\n",
        "Podemos calcular el tamaño de salida utilizando las ecuaciones anteriores:\n",
        "\n",
        "$$\n",
        "\\begin{equation*}\n",
        "\\begin{aligned}\n",
        "height_{new} &= \\frac{1}{stride} (height_{input} - height_{kernel} + 2 * padding) + 1 \\\\\n",
        "&= \\frac{1}{2} (6 - 3 + 2 * 1) + 1 \\\\\n",
        "&= \\frac{1}{2}(5)+1 \\\\\n",
        "&= 3\n",
        "\\end{aligned}\n",
        "\\end{equation*}\n",
        "$$\n",
        "* Observe que redondeamos los números flotantes, por lo que pasamos de 3,5 a 3."
      ]
    },
    {
      "cell_type": "markdown",
      "metadata": {
        "id": "UR7sr9F1ktIR"
      },
      "source": [
        "## Pooling\n",
        "\n",
        "Se ha convertido en una práctica común el uso de la capa de pooling entre las capas convolucionales.\n",
        "\n",
        "Las redes neuronales convolucionales exitosas como [alexnet](https://papers.nips.cc/paper/4824-imagenet-classification-with-deep-convolutional-neural-networks), [VGG16, VGG19](https://arxiv.org/abs/1409.1556) emplean esta técnica.\n",
        "\n",
        "Las capas de pooling también dependen de las ventanas deslizantes, pero en lugar de utilizar la ventana como entradas para las neuronas, los datos de entrada deslizantes pasan por un operador `max`, `mean` o algún otro.\n",
        "\n",
        "### Un ejemplo de Max-Pooling\n",
        "\n",
        "<img src=\"https://raw.githubusercontent.com/vicolab/neural-network-intro/master/3-convnet/resources/pooling.gif\" alt=\"Max Pooling\" width=\"300\">\n",
        "\n",
        "El max-pooling tiene varias ventajas:\n",
        "* Si tiene imágenes en las que la misma clase tiene imágenes similares con pequeños desplazamientos en la posición de los píxeles, el max pooling mitigará las pequeñas traslaciones.\n",
        "* Introduce zero parameters en el modelo, ya que los operadores de máxima y media son funciones fijas que no dependen de los pesos\n",
        "* Reduce la cantidad de datos que hay que procesar en la siguiente capa, asegurando al mismo tiempo cierta invariabilidad de la traslación de los píxeles.\n",
        "* Se utilizan normalmente con zero padding (también conocido padding válido).\n",
        "* Siguen la misma matemática dimensional que las convoluciones\n",
        "\n",
        "[Puede leer más sobre los operadores de pooling aquí](http://cs231n.github.io/convolutional-networks/#pool)"
      ]
    },
    {
      "cell_type": "markdown",
      "metadata": {
        "id": "Xn8Ks4nQktIR"
      },
      "source": [
        "## Implementando una Red Convolucional\n",
        "\n",
        "Implementaremos la siguiente CNN:\n",
        "\n",
        "<img src=\"https://raw.githubusercontent.com/vicolab/neural-network-intro/master/3-convnet/resources/mnist_net.png\" alt=\"CNN\" width=\"1280\">\n",
        "\n",
        "Los componentes de esta red pueden verse a continuación:\n",
        "\n",
        "Defina una entrada:\n",
        "\n",
        "* `input_x = Input(shape=sample_shape)`\n",
        "* `sample_shape` es un parámetro de entrada\n",
        "    \n",
        "Genere 32 kernel maps utilizando una capa convolucional:\n",
        "\n",
        "* La convolución utiliza un kernel de $3 \\times 3$, stride 1, zero padding, y una función de activación [ReLU](https://en.wikipedia.org/wiki/Rectifier_(neural_networks)\n",
        "* Utilice [Conv2D](https://keras.io/layers/convolutional/) desde la librería Keras\n",
        "* `output_layer = Conv2D(PARAMETERS)(input_layer)`\n",
        "    \n",
        "Genere 64 kernel maps utilizando una capa convolucional:\n",
        "\n",
        "* La convolución utiliza un kernel de $3 \\times 3$, stride 1, zero padding, y una función de activación [ReLU]\n",
        "* Utilice [Conv2D](https://keras.io/layers/convolutional/)\n",
        "* `output_layer = Conv2D(PARAMETERS)(input_layer)`\n",
        "\n",
        "Reduzca los feature maps utilizando max-pooling:\n",
        "\n",
        "* La capa max-pooling debe utilizar un kernel de $2 \\times 2$, stride `None`, y zero padding\n",
        "* Utilice [MaxPooling2D](https://keras.io/layers/pooling/#maxpooling2d)\n",
        "* `output_layer = MaxPooling2D(PARAMETERS)(input_layer)`\n",
        "\n",
        "Aplane el feature map:\n",
        "\n",
        "* [Flatten](https://keras.io/layers/core/#flatten)\n",
        "\n",
        "Capa fully-connected, i.e. `Dense`, a 128 dimensiones:\n",
        "\n",
        "* Función de activación [ReLU](https://en.wikipedia.org/wiki/Rectifier_(neural_networks)\n",
        "* [Dense](https://keras.io/layers/core/#dense)\n",
        "\n",
        "Capa fully-connected, i.e. `Dense`, a $K$ clases (argumento) dimensiones:\n",
        "\n",
        "* Función de activación [Softmax](https://en.wikipedia.org/wiki/Softmax_function)\n",
        "* [Dense](https://keras.io/layers/core/#dense)\n",
        "\n",
        "\n",
        "### Parte IV:  Implemente una Convolutional Neural Network\n",
        "\n",
        "Es hora de implementar nuestra primera red neuronal convolucional.\n",
        "\n",
        "<div class=\"alert alert-success\">\n",
        "<strong>Tarea:</strong> Cree una función `net_1()` que implemente la red especificada anteriormente.\n",
        "</div>"
      ]
    },
    {
      "cell_type": "code",
      "execution_count": null,
      "metadata": {
        "id": "ohigxWMPktIR"
      },
      "outputs": [],
      "source": [
        "# Importar la librería Keras\n",
        "import keras\n",
        "from keras.models import Model\n",
        "from keras.layers import *\n",
        "\n",
        "\n",
        "def net_1(sample_shape, nb_classes):\n",
        "    model = Sequential()\n",
        "\n",
        "    model.add(Conv2D(32, kernel_size=(3, 3), activation='relu', input_shape=sample_shape))\n",
        "    model.add(MaxPooling2D(pool_size=(2, 2)))\n",
        "    model.add(Conv2D(64, (3, 3), activation='relu'))\n",
        "    model.add(MaxPooling2D(pool_size=(2, 2)))\n",
        "    model.add(Flatten())\n",
        "    model.add(Dense(128, activation='relu'))\n",
        "    model.add(Dense(nb_classes, activation='softmax'))\n",
        "    return model\n"
      ]
    },
    {
      "cell_type": "markdown",
      "metadata": {
        "id": "hOEKWKGJktIR"
      },
      "source": [
        "<div class=\"alert alert-info\">\n",
        "  <strong>En el siguiente fragmento de código</strong>\n",
        "<ul>\n",
        "  <li>Crearemos una red utilizando la función que acabas de implementar</li>\n",
        "  <li>Mostrar un resumen de la red</li>\n",
        "</ul>\n",
        "</div>"
      ]
    },
    {
      "cell_type": "code",
      "execution_count": null,
      "metadata": {
        "colab": {
          "base_uri": "https://localhost:8080/"
        },
        "id": "W4fIdEWmktIR",
        "outputId": "8481f46a-10b4-489e-9191-e9ac0610b29b"
      },
      "outputs": [
        {
          "output_type": "stream",
          "name": "stdout",
          "text": [
            "Model: \"sequential\"\n",
            "_________________________________________________________________\n",
            " Layer (type)                Output Shape              Param #   \n",
            "=================================================================\n",
            " conv2d (Conv2D)             (None, 26, 26, 32)        320       \n",
            "                                                                 \n",
            " max_pooling2d (MaxPooling2  (None, 13, 13, 32)        0         \n",
            " D)                                                              \n",
            "                                                                 \n",
            " conv2d_1 (Conv2D)           (None, 11, 11, 64)        18496     \n",
            "                                                                 \n",
            " max_pooling2d_1 (MaxPoolin  (None, 5, 5, 64)          0         \n",
            " g2D)                                                            \n",
            "                                                                 \n",
            " flatten (Flatten)           (None, 1600)              0         \n",
            "                                                                 \n",
            " dense (Dense)               (None, 128)               204928    \n",
            "                                                                 \n",
            " dense_1 (Dense)             (None, 10)                1290      \n",
            "                                                                 \n",
            "=================================================================\n",
            "Total params: 225034 (879.04 KB)\n",
            "Trainable params: 225034 (879.04 KB)\n",
            "Non-trainable params: 0 (0.00 Byte)\n",
            "_________________________________________________________________\n"
          ]
        }
      ],
      "source": [
        "import numpy as np\n",
        "import keras\n",
        "from keras.models import Model, Sequential\n",
        "from keras.layers import *\n",
        "\n",
        "# Dimensión de la muestra\n",
        "sample_shape = x_train[0].shape\n",
        "\n",
        "# Construir una red\n",
        "model = net_1(sample_shape, 10)\n",
        "\n",
        "# Imprimir un resumen de la red\n",
        "model.summary()\n"
      ]
    },
    {
      "cell_type": "markdown",
      "metadata": {
        "id": "tnwrkMN9ktIR"
      },
      "source": [
        "### Parte V: Definir los Hiperparámetros y entrenar la red\n",
        "\n",
        "Tenemos que definir los hiperparámetros para que nuestra red pueda aprender.\n",
        "\n",
        "<div class=\"alert alert-success\">\n",
        "\n",
        "<strong>Tarea:</strong> Afina los hiperparámetros hasta que su `loss` y `val_loss` converjan a números bajos:\n",
        "   \n",
        "<ul>\n",
        "  <li>Tamaño de batch</li>\n",
        "  <li>Número de épocas de entrenamiento</li>\n",
        "</ul>\n",
        "</div>\n"
      ]
    },
    {
      "cell_type": "code",
      "execution_count": null,
      "metadata": {
        "colab": {
          "base_uri": "https://localhost:8080/"
        },
        "id": "rUuzKRY_nBsb",
        "outputId": "9545f9ff-e73e-4692-fa59-a661d792613f"
      },
      "outputs": [
        {
          "output_type": "stream",
          "name": "stdout",
          "text": [
            "Requirement already satisfied: tabulate in /usr/local/lib/python3.10/dist-packages (0.9.0)\n"
          ]
        }
      ],
      "source": [
        "!pip install tabulate\n"
      ]
    },
    {
      "cell_type": "code",
      "execution_count": null,
      "metadata": {
        "colab": {
          "base_uri": "https://localhost:8080/",
          "height": 1000
        },
        "id": "8u5XZhdln0xx",
        "outputId": "580c82f3-225f-4dba-d3a7-8608ef8e99dc"
      },
      "outputs": [
        {
          "output_type": "stream",
          "name": "stdout",
          "text": [
            "Epoch 1/30\n",
            "422/422 - 18s - loss: 29.0372 - accuracy: 0.1684 - val_loss: 14.3812 - val_accuracy: 0.2135 - 18s/epoch - 42ms/step\n",
            "313/313 - 2s - loss: 14.7120 - accuracy: 0.1988 - 2s/epoch - 8ms/step\n",
            "Epoch 2/30\n",
            "422/422 - 2s - loss: 10.8115 - accuracy: 0.2789 - val_loss: 7.2426 - val_accuracy: 0.4092 - 2s/epoch - 4ms/step\n",
            "313/313 - 1s - loss: 7.6663 - accuracy: 0.3826 - 647ms/epoch - 2ms/step\n",
            "Epoch 3/30\n",
            "422/422 - 2s - loss: 6.3257 - accuracy: 0.4588 - val_loss: 4.5814 - val_accuracy: 0.5628 - 2s/epoch - 4ms/step\n",
            "313/313 - 1s - loss: 4.9839 - accuracy: 0.5391 - 667ms/epoch - 2ms/step\n",
            "Epoch 4/30\n",
            "422/422 - 2s - loss: 4.4551 - accuracy: 0.5748 - val_loss: 3.3304 - val_accuracy: 0.6532 - 2s/epoch - 4ms/step\n",
            "313/313 - 1s - loss: 3.6813 - accuracy: 0.6239 - 667ms/epoch - 2ms/step\n",
            "Epoch 5/30\n",
            "422/422 - 2s - loss: 3.4385 - accuracy: 0.6469 - val_loss: 2.6015 - val_accuracy: 0.7157 - 2s/epoch - 5ms/step\n",
            "313/313 - 1s - loss: 2.9058 - accuracy: 0.6854 - 686ms/epoch - 2ms/step\n",
            "Epoch 6/30\n",
            "422/422 - 2s - loss: 2.7876 - accuracy: 0.6962 - val_loss: 2.1337 - val_accuracy: 0.7530 - 2s/epoch - 4ms/step\n",
            "313/313 - 1s - loss: 2.3992 - accuracy: 0.7244 - 667ms/epoch - 2ms/step\n",
            "Epoch 7/30\n",
            "422/422 - 2s - loss: 2.3542 - accuracy: 0.7317 - val_loss: 1.8162 - val_accuracy: 0.7818 - 2s/epoch - 4ms/step\n",
            "313/313 - 1s - loss: 2.0486 - accuracy: 0.7583 - 667ms/epoch - 2ms/step\n",
            "Epoch 8/30\n",
            "422/422 - 2s - loss: 2.0484 - accuracy: 0.7582 - val_loss: 1.5856 - val_accuracy: 0.8027 - 2s/epoch - 5ms/step\n",
            "313/313 - 1s - loss: 1.8014 - accuracy: 0.7843 - 701ms/epoch - 2ms/step\n",
            "Epoch 9/30\n",
            "422/422 - 2s - loss: 1.8203 - accuracy: 0.7793 - val_loss: 1.4122 - val_accuracy: 0.8217 - 2s/epoch - 4ms/step\n",
            "313/313 - 1s - loss: 1.6113 - accuracy: 0.8025 - 675ms/epoch - 2ms/step\n",
            "Epoch 10/30\n",
            "422/422 - 2s - loss: 1.6426 - accuracy: 0.7964 - val_loss: 1.2708 - val_accuracy: 0.8353 - 2s/epoch - 4ms/step\n",
            "313/313 - 1s - loss: 1.4583 - accuracy: 0.8186 - 657ms/epoch - 2ms/step\n",
            "Epoch 11/30\n",
            "422/422 - 2s - loss: 1.4990 - accuracy: 0.8100 - val_loss: 1.1598 - val_accuracy: 0.8457 - 2s/epoch - 4ms/step\n",
            "313/313 - 1s - loss: 1.3301 - accuracy: 0.8319 - 944ms/epoch - 3ms/step\n",
            "Epoch 12/30\n",
            "422/422 - 2s - loss: 1.3802 - accuracy: 0.8218 - val_loss: 1.0681 - val_accuracy: 0.8550 - 2s/epoch - 5ms/step\n",
            "313/313 - 1s - loss: 1.2326 - accuracy: 0.8421 - 692ms/epoch - 2ms/step\n",
            "Epoch 13/30\n",
            "422/422 - 2s - loss: 1.2801 - accuracy: 0.8315 - val_loss: 0.9931 - val_accuracy: 0.8645 - 2s/epoch - 4ms/step\n",
            "313/313 - 1s - loss: 1.1470 - accuracy: 0.8509 - 665ms/epoch - 2ms/step\n",
            "Epoch 14/30\n",
            "422/422 - 2s - loss: 1.1947 - accuracy: 0.8397 - val_loss: 0.9237 - val_accuracy: 0.8707 - 2s/epoch - 4ms/step\n",
            "313/313 - 1s - loss: 1.0641 - accuracy: 0.8580 - 679ms/epoch - 2ms/step\n",
            "Epoch 15/30\n",
            "422/422 - 2s - loss: 1.1202 - accuracy: 0.8469 - val_loss: 0.8689 - val_accuracy: 0.8772 - 2s/epoch - 4ms/step\n",
            "313/313 - 1s - loss: 1.0029 - accuracy: 0.8630 - 927ms/epoch - 3ms/step\n",
            "Epoch 16/30\n",
            "422/422 - 2s - loss: 1.0547 - accuracy: 0.8534 - val_loss: 0.8188 - val_accuracy: 0.8822 - 2s/epoch - 5ms/step\n",
            "313/313 - 1s - loss: 0.9452 - accuracy: 0.8680 - 676ms/epoch - 2ms/step\n",
            "Epoch 17/30\n",
            "422/422 - 2s - loss: 0.9979 - accuracy: 0.8592 - val_loss: 0.7789 - val_accuracy: 0.8865 - 2s/epoch - 4ms/step\n",
            "313/313 - 1s - loss: 0.8940 - accuracy: 0.8745 - 664ms/epoch - 2ms/step\n",
            "Epoch 18/30\n",
            "422/422 - 2s - loss: 0.9472 - accuracy: 0.8650 - val_loss: 0.7394 - val_accuracy: 0.8927 - 2s/epoch - 4ms/step\n",
            "313/313 - 1s - loss: 0.8473 - accuracy: 0.8795 - 705ms/epoch - 2ms/step\n",
            "Epoch 19/30\n",
            "422/422 - 2s - loss: 0.9013 - accuracy: 0.8698 - val_loss: 0.7053 - val_accuracy: 0.8935 - 2s/epoch - 5ms/step\n",
            "313/313 - 1s - loss: 0.8093 - accuracy: 0.8823 - 688ms/epoch - 2ms/step\n",
            "Epoch 20/30\n",
            "422/422 - 2s - loss: 0.8590 - accuracy: 0.8737 - val_loss: 0.6796 - val_accuracy: 0.8993 - 2s/epoch - 4ms/step\n",
            "313/313 - 1s - loss: 0.7718 - accuracy: 0.8856 - 646ms/epoch - 2ms/step\n",
            "Epoch 21/30\n",
            "422/422 - 2s - loss: 0.8212 - accuracy: 0.8773 - val_loss: 0.6492 - val_accuracy: 0.9023 - 2s/epoch - 4ms/step\n",
            "313/313 - 1s - loss: 0.7393 - accuracy: 0.8903 - 670ms/epoch - 2ms/step\n",
            "Epoch 22/30\n",
            "422/422 - 2s - loss: 0.7871 - accuracy: 0.8812 - val_loss: 0.6285 - val_accuracy: 0.9065 - 2s/epoch - 4ms/step\n",
            "313/313 - 1s - loss: 0.7121 - accuracy: 0.8937 - 838ms/epoch - 3ms/step\n",
            "Epoch 23/30\n",
            "422/422 - 2s - loss: 0.7557 - accuracy: 0.8853 - val_loss: 0.6077 - val_accuracy: 0.9092 - 2s/epoch - 5ms/step\n",
            "313/313 - 1s - loss: 0.6821 - accuracy: 0.8983 - 666ms/epoch - 2ms/step\n",
            "Epoch 24/30\n",
            "422/422 - 2s - loss: 0.7275 - accuracy: 0.8886 - val_loss: 0.5880 - val_accuracy: 0.9093 - 2s/epoch - 4ms/step\n",
            "313/313 - 1s - loss: 0.6605 - accuracy: 0.9015 - 655ms/epoch - 2ms/step\n",
            "Epoch 25/30\n",
            "422/422 - 2s - loss: 0.7010 - accuracy: 0.8916 - val_loss: 0.5694 - val_accuracy: 0.9135 - 2s/epoch - 4ms/step\n",
            "313/313 - 1s - loss: 0.6379 - accuracy: 0.9033 - 672ms/epoch - 2ms/step\n",
            "Epoch 26/30\n",
            "422/422 - 2s - loss: 0.6767 - accuracy: 0.8949 - val_loss: 0.5520 - val_accuracy: 0.9135 - 2s/epoch - 5ms/step\n",
            "313/313 - 1s - loss: 0.6183 - accuracy: 0.9060 - 705ms/epoch - 2ms/step\n",
            "Epoch 27/30\n",
            "422/422 - 2s - loss: 0.6543 - accuracy: 0.8968 - val_loss: 0.5376 - val_accuracy: 0.9177 - 2s/epoch - 4ms/step\n",
            "313/313 - 1s - loss: 0.5996 - accuracy: 0.9071 - 684ms/epoch - 2ms/step\n",
            "Epoch 28/30\n",
            "422/422 - 2s - loss: 0.6330 - accuracy: 0.9000 - val_loss: 0.5230 - val_accuracy: 0.9198 - 2s/epoch - 4ms/step\n",
            "313/313 - 1s - loss: 0.5829 - accuracy: 0.9102 - 678ms/epoch - 2ms/step\n",
            "Epoch 29/30\n",
            "422/422 - 2s - loss: 0.6130 - accuracy: 0.9023 - val_loss: 0.5102 - val_accuracy: 0.9215 - 2s/epoch - 4ms/step\n",
            "313/313 - 1s - loss: 0.5667 - accuracy: 0.9121 - 923ms/epoch - 3ms/step\n",
            "Epoch 30/30\n",
            "422/422 - 2s - loss: 0.5946 - accuracy: 0.9046 - val_loss: 0.5002 - val_accuracy: 0.9222 - 2s/epoch - 5ms/step\n",
            "313/313 - 1s - loss: 0.5523 - accuracy: 0.9127 - 991ms/epoch - 3ms/step\n"
          ]
        },
        {
          "output_type": "display_data",
          "data": {
            "text/plain": [
              "<Figure size 640x480 with 1 Axes>"
            ],
            "image/png": "[encoded data removed]"
          },
          "metadata": {}
        },
        {
          "output_type": "stream",
          "name": "stdout",
          "text": [
            "================================================================================\n",
            "Assessing Test dataset...\n",
            "================================================================================\n",
            "╒═════════╤═══════════╤════════════╕\n",
            "│   Epoch │      Loss │   Accuracy │\n",
            "╞═════════╪═══════════╪════════════╡\n",
            "│       1 │ 14.712    │     0.1988 │\n",
            "├─────────┼───────────┼────────────┤\n",
            "│       2 │  7.66626  │     0.3826 │\n",
            "├─────────┼───────────┼────────────┤\n",
            "│       3 │  4.98393  │     0.5391 │\n",
            "├─────────┼───────────┼────────────┤\n",
            "│       4 │  3.68133  │     0.6239 │\n",
            "├─────────┼───────────┼────────────┤\n",
            "│       5 │  2.90578  │     0.6854 │\n",
            "├─────────┼───────────┼────────────┤\n",
            "│       6 │  2.39915  │     0.7244 │\n",
            "├─────────┼───────────┼────────────┤\n",
            "│       7 │  2.04857  │     0.7583 │\n",
            "├─────────┼───────────┼────────────┤\n",
            "│       8 │  1.80144  │     0.7843 │\n",
            "├─────────┼───────────┼────────────┤\n",
            "│       9 │  1.61134  │     0.8025 │\n",
            "├─────────┼───────────┼────────────┤\n",
            "│      10 │  1.45829  │     0.8186 │\n",
            "├─────────┼───────────┼────────────┤\n",
            "│      11 │  1.33009  │     0.8319 │\n",
            "├─────────┼───────────┼────────────┤\n",
            "│      12 │  1.23258  │     0.8421 │\n",
            "├─────────┼───────────┼────────────┤\n",
            "│      13 │  1.14701  │     0.8509 │\n",
            "├─────────┼───────────┼────────────┤\n",
            "│      14 │  1.06414  │     0.858  │\n",
            "├─────────┼───────────┼────────────┤\n",
            "│      15 │  1.00294  │     0.863  │\n",
            "├─────────┼───────────┼────────────┤\n",
            "│      16 │  0.945229 │     0.868  │\n",
            "├─────────┼───────────┼────────────┤\n",
            "│      17 │  0.893987 │     0.8745 │\n",
            "├─────────┼───────────┼────────────┤\n",
            "│      18 │  0.847334 │     0.8795 │\n",
            "├─────────┼───────────┼────────────┤\n",
            "│      19 │  0.809256 │     0.8823 │\n",
            "├─────────┼───────────┼────────────┤\n",
            "│      20 │  0.771834 │     0.8856 │\n",
            "├─────────┼───────────┼────────────┤\n",
            "│      21 │  0.739277 │     0.8903 │\n",
            "├─────────┼───────────┼────────────┤\n",
            "│      22 │  0.712139 │     0.8937 │\n",
            "├─────────┼───────────┼────────────┤\n",
            "│      23 │  0.682119 │     0.8983 │\n",
            "├─────────┼───────────┼────────────┤\n",
            "│      24 │  0.660506 │     0.9015 │\n",
            "├─────────┼───────────┼────────────┤\n",
            "│      25 │  0.637893 │     0.9033 │\n",
            "├─────────┼───────────┼────────────┤\n",
            "│      26 │  0.618313 │     0.906  │\n",
            "├─────────┼───────────┼────────────┤\n",
            "│      27 │  0.599616 │     0.9071 │\n",
            "├─────────┼───────────┼────────────┤\n",
            "│      28 │  0.582865 │     0.9102 │\n",
            "├─────────┼───────────┼────────────┤\n",
            "│      29 │  0.566736 │     0.9121 │\n",
            "├─────────┼───────────┼────────────┤\n",
            "│      30 │  0.552289 │     0.9127 │\n",
            "╘═════════╧═══════════╧════════════╛\n"
          ]
        }
      ],
      "source": [
        "import tensorflow as tf\n",
        "import matplotlib.pyplot as plt\n",
        "import pandas as pd\n",
        "from tabulate import tabulate\n",
        "\n",
        "# Definir los hiperparámetros\n",
        "batch_size = 128\n",
        "epochs = 30\n",
        "# No hay tasa de aprendizaje porque estamos usando los valores recomendados\n",
        "# para el optimizador Adadelta. Más información aquí:\n",
        "# https://keras.io/optimizers/\n",
        "\n",
        "# Necesitamos compilar nuestro modelo\n",
        "import tensorflow as tf\n",
        "\n",
        "# Necesitamos compilar nuestro modelo\n",
        "model.compile(loss='categorical_crossentropy', optimizer='Adadelta', metrics=['accuracy'])\n",
        "\n",
        "# Lista para almacenar los resultados de cada época\n",
        "epoch_results = []\n",
        "\n",
        "for epoch in range(1, epochs + 1):\n",
        "    print(f'Epoch {epoch}/{epochs}')\n",
        "\n",
        "    # Entrenar en esta época\n",
        "    logs = model.fit(x_train, y_train_one_hot, batch_size=batch_size, epochs=1, verbose=2, validation_split=0.1)\n",
        "\n",
        "    # Evaluar en el conjunto de pruebas\n",
        "    scores = model.evaluate(x_test, y_test, verbose=2)\n",
        "\n",
        "    loss_test, accuracy_test = scores\n",
        "    epoch_results.append([epoch, loss_test, accuracy_test])\n",
        "\n",
        "# Graficar pérdidas y la precisión\n",
        "fig, ax = plt.subplots(1, 1)\n",
        "pd.DataFrame(logs.history).plot(ax=ax)\n",
        "ax.grid(linestyle='dotted')\n",
        "ax.legend()\n",
        "plt.show()\n",
        "\n",
        "print('=' * 80)\n",
        "print('Assessing Test dataset...')\n",
        "print('=' * 80)\n",
        "\n",
        "# Mostrar los resultados de cada época en una tabla\n",
        "table_headers = [\"Epoch\", \"Loss\", \"Accuracy\"]\n",
        "print(tabulate(epoch_results, headers=table_headers, tablefmt=\"fancy_grid\"))\n"
      ]
    },
    {
      "cell_type": "markdown",
      "metadata": {
        "id": "UptQXC8kktIR"
      },
      "source": [
        "## ¿Deberíamos usar Max-Pooling?\n",
        "\n",
        "Recientemente se ha discutido si max-pooling es una buena solución para reducir la cantidad de datos entre capas de una red. Algunos enfoques recientes muestran que se puede conseguir un rendimiento similar, y a veces mejor, utilizando convoluciones con strides mayores que 1.\n",
        "\n",
        "\n",
        "> Deshacerse de pooling. A mucha gente no le gusta la operación de pooling y cree que se puede prescindir de ella. Por ejemplo, [Striving for Simplicity: The All Convolutional Net](http://arxiv.org/abs/1412.6806) propone descartar la capa de pooling en favor de una arquitectura que sólo conste de capas CONV repetidas. Para reducir el tamaño de la representación, sugieren utilizar un stride mayor en la capa CONV de vez en cuando. También se ha descubierto que descartar las capas de pooling es importante para entrenar buenos modelos generativos, como los autoencoders variacionales (VAE) o las redes generativas adversariales (GAN). Parece probable que las arquitecturas futuras tengan muy pocas o ninguna capa de pooling.\n",
        "\n",
        "[source](http://cs231n.github.io/convolutional-networks/#pool)\n",
        "\n",
        "\n",
        "### Parte VI: Implemente una Convolutional Network sin Max-Pooling\n",
        "\n",
        "Implemente una Convolutional Neural Network sin capas de pooling:\n",
        "\n",
        "<img src=\"https://raw.githubusercontent.com/vicolab/neural-network-intro/master/3-convnet/resources/mnist_net2.png\" alt=\"CNN\" width=\"1280\">\n",
        "\n",
        "<div class=\"alert alert-success\">\n",
        "<strong>Tarea:</strong> Replique la red que construimos anteriormente (`net_1()`), pero esta vez:\n",
        "<ul>\n",
        "  <li>Remueva la capa de max pooling y añada un stride=2 al segundo bloque de convolución.\n",
        "  </li>\n",
        "</ul>\n",
        "</div>\n",
        "\n",
        "Observación: vea [Conv2D](https://keras.io/layers/convolutional/)\n",
        "      \n"
      ]
    },
    {
      "cell_type": "code",
      "execution_count": null,
      "metadata": {
        "id": "2wVic-_qktIS"
      },
      "outputs": [],
      "source": [
        "def net_2(sample_shape, nb_classes):\n",
        "    # Defina la entrada de la red para que tenga la dimensión `sample_shape\n",
        "    input_x = Input(shape=sample_shape)\n",
        "\n",
        "    # Cree aquí las conexiones internas de la red\n",
        "    x = Conv2D(32, kernel_size=(3, 3), activation='relu', input_shape=sample_shape)(input_x)\n",
        "    x = Conv2D(64, (3, 3), activation='relu', strides=(2, 2))(x)\n",
        "    x = Conv2D(128, (3, 3), activation='relu')(x)\n",
        "    x = Flatten()(x)\n",
        "    x = Dense(128, activation='relu')(x)\n",
        "    probabilities = Dense(nb_classes, activation='softmax')(x)\n",
        "\n",
        "    # Defina la salida\n",
        "    model = Model(inputs=input_x, outputs=probabilities)\n",
        "\n",
        "    return model"
      ]
    },
    {
      "cell_type": "markdown",
      "metadata": {
        "id": "rOvZlEonktIS"
      },
      "source": [
        "<div class=\"alert alert-info\">\n",
        "  <strong>En el siguiente fragmento de códigol:</strong>\n",
        "<ul>\n",
        "  <li>Crearemos una red utilizando la función que acabamos de implementar</li>\n",
        "  <li>Mostraremos un resumen de la red</li>\n",
        "</ul>\n",
        "</div>"
      ]
    },
    {
      "cell_type": "code",
      "execution_count": null,
      "metadata": {
        "colab": {
          "base_uri": "https://localhost:8080/"
        },
        "id": "w2HVQgdxktIS",
        "outputId": "8c3162e8-6a16-473d-fd4d-247d2b8c6f31"
      },
      "outputs": [
        {
          "output_type": "stream",
          "name": "stdout",
          "text": [
            "Model: \"model\"\n",
            "_________________________________________________________________\n",
            " Layer (type)                Output Shape              Param #   \n",
            "=================================================================\n",
            " input_1 (InputLayer)        [(None, 28, 28, 1)]       0         \n",
            "                                                                 \n",
            " conv2d_2 (Conv2D)           (None, 26, 26, 32)        320       \n",
            "                                                                 \n",
            " conv2d_3 (Conv2D)           (None, 12, 12, 64)        18496     \n",
            "                                                                 \n",
            " conv2d_4 (Conv2D)           (None, 10, 10, 128)       73856     \n",
            "                                                                 \n",
            " flatten_1 (Flatten)         (None, 12800)             0         \n",
            "                                                                 \n",
            " dense_2 (Dense)             (None, 128)               1638528   \n",
            "                                                                 \n",
            " dense_3 (Dense)             (None, 10)                1290      \n",
            "                                                                 \n",
            "=================================================================\n",
            "Total params: 1732490 (6.61 MB)\n",
            "Trainable params: 1732490 (6.61 MB)\n",
            "Non-trainable params: 0 (0.00 Byte)\n",
            "_________________________________________________________________\n"
          ]
        }
      ],
      "source": [
        "# Dimensión de la muestra\n",
        "sample_shape = x_train[0].shape\n",
        "\n",
        "# Construir una red\n",
        "model = net_2(sample_shape, 10)\n",
        "model.summary()"
      ]
    },
    {
      "cell_type": "markdown",
      "metadata": {
        "id": "-04NTnT-ktIS"
      },
      "source": [
        "### Parte VII: Definir los Hiperparámetros y Entrenar la Red Neuronal\n",
        "\n",
        "Como antes, necesitamos definir algunos hiperparámetros y entrenar la red. Siéntase libre de reutilizar los hiperparámetros que encontró antes.\n",
        "\n",
        "<div class=\"alert alert-success\">\n",
        "<strong>Tarea:</strong> Afinar los siguientes hiperparámetros hasta que `loss` y `val_loss` converjan en números bajos:\n",
        "<ul>\n",
        "  <li>Tamaño de batch</li>\n",
        "  <li>Número de epocas de entrenamiento</li>\n",
        "</ul>\n",
        "</div>"
      ]
    },
    {
      "cell_type": "code",
      "execution_count": null,
      "metadata": {
        "colab": {
          "base_uri": "https://localhost:8080/",
          "height": 1000
        },
        "id": "iZnQTPaR7d_S",
        "outputId": "27fb07ee-0da2-4da8-bd95-338087a966f8"
      },
      "outputs": [
        {
          "output_type": "stream",
          "name": "stdout",
          "text": [
            "Epoch 1/30\n",
            "422/422 - 4s - loss: 1.0546 - accuracy: 0.7344 - val_loss: 0.6582 - val_accuracy: 0.8203 - 4s/epoch - 10ms/step\n",
            "Epoch 2/30\n",
            "422/422 - 3s - loss: 0.6860 - accuracy: 0.8193 - val_loss: 0.4827 - val_accuracy: 0.8690 - 3s/epoch - 7ms/step\n",
            "Epoch 3/30\n",
            "422/422 - 3s - loss: 0.5364 - accuracy: 0.8543 - val_loss: 0.3981 - val_accuracy: 0.8923 - 3s/epoch - 6ms/step\n",
            "Epoch 4/30\n",
            "422/422 - 3s - loss: 0.4487 - accuracy: 0.8776 - val_loss: 0.3428 - val_accuracy: 0.9057 - 3s/epoch - 8ms/step\n",
            "Epoch 5/30\n",
            "422/422 - 3s - loss: 0.3899 - accuracy: 0.8930 - val_loss: 0.3033 - val_accuracy: 0.9140 - 3s/epoch - 6ms/step\n",
            "Epoch 6/30\n",
            "422/422 - 3s - loss: 0.3457 - accuracy: 0.9040 - val_loss: 0.2754 - val_accuracy: 0.9198 - 3s/epoch - 7ms/step\n",
            "Epoch 7/30\n",
            "422/422 - 2s - loss: 0.3113 - accuracy: 0.9134 - val_loss: 0.2521 - val_accuracy: 0.9253 - 2s/epoch - 6ms/step\n",
            "Epoch 8/30\n",
            "422/422 - 2s - loss: 0.2836 - accuracy: 0.9213 - val_loss: 0.2364 - val_accuracy: 0.9307 - 2s/epoch - 6ms/step\n",
            "Epoch 9/30\n",
            "422/422 - 2s - loss: 0.2607 - accuracy: 0.9272 - val_loss: 0.2194 - val_accuracy: 0.9365 - 2s/epoch - 6ms/step\n",
            "Epoch 10/30\n",
            "422/422 - 3s - loss: 0.2409 - accuracy: 0.9324 - val_loss: 0.2086 - val_accuracy: 0.9393 - 3s/epoch - 6ms/step\n",
            "Epoch 11/30\n",
            "422/422 - 3s - loss: 0.2244 - accuracy: 0.9366 - val_loss: 0.1988 - val_accuracy: 0.9423 - 3s/epoch - 6ms/step\n",
            "Epoch 12/30\n",
            "422/422 - 3s - loss: 0.2096 - accuracy: 0.9406 - val_loss: 0.1893 - val_accuracy: 0.9457 - 3s/epoch - 6ms/step\n",
            "Epoch 13/30\n",
            "422/422 - 3s - loss: 0.1966 - accuracy: 0.9440 - val_loss: 0.1855 - val_accuracy: 0.9462 - 3s/epoch - 6ms/step\n",
            "Epoch 14/30\n",
            "422/422 - 3s - loss: 0.1857 - accuracy: 0.9472 - val_loss: 0.1756 - val_accuracy: 0.9487 - 3s/epoch - 6ms/step\n",
            "Epoch 15/30\n",
            "422/422 - 3s - loss: 0.1755 - accuracy: 0.9497 - val_loss: 0.1708 - val_accuracy: 0.9513 - 3s/epoch - 7ms/step\n",
            "Epoch 16/30\n",
            "422/422 - 3s - loss: 0.1662 - accuracy: 0.9521 - val_loss: 0.1669 - val_accuracy: 0.9527 - 3s/epoch - 6ms/step\n",
            "Epoch 17/30\n",
            "422/422 - 3s - loss: 0.1576 - accuracy: 0.9548 - val_loss: 0.1605 - val_accuracy: 0.9558 - 3s/epoch - 6ms/step\n",
            "Epoch 18/30\n",
            "422/422 - 3s - loss: 0.1505 - accuracy: 0.9570 - val_loss: 0.1568 - val_accuracy: 0.9565 - 3s/epoch - 6ms/step\n",
            "Epoch 19/30\n",
            "422/422 - 3s - loss: 0.1431 - accuracy: 0.9591 - val_loss: 0.1570 - val_accuracy: 0.9573 - 3s/epoch - 6ms/step\n",
            "Epoch 20/30\n",
            "422/422 - 3s - loss: 0.1369 - accuracy: 0.9605 - val_loss: 0.1497 - val_accuracy: 0.9583 - 3s/epoch - 7ms/step\n",
            "Epoch 21/30\n",
            "422/422 - 3s - loss: 0.1309 - accuracy: 0.9625 - val_loss: 0.1472 - val_accuracy: 0.9592 - 3s/epoch - 6ms/step\n",
            "Epoch 22/30\n",
            "422/422 - 3s - loss: 0.1254 - accuracy: 0.9638 - val_loss: 0.1462 - val_accuracy: 0.9603 - 3s/epoch - 6ms/step\n",
            "Epoch 23/30\n",
            "422/422 - 3s - loss: 0.1203 - accuracy: 0.9652 - val_loss: 0.1412 - val_accuracy: 0.9612 - 3s/epoch - 6ms/step\n",
            "Epoch 24/30\n",
            "422/422 - 3s - loss: 0.1153 - accuracy: 0.9668 - val_loss: 0.1395 - val_accuracy: 0.9617 - 3s/epoch - 6ms/step\n",
            "Epoch 25/30\n",
            "422/422 - 3s - loss: 0.1110 - accuracy: 0.9680 - val_loss: 0.1373 - val_accuracy: 0.9615 - 3s/epoch - 6ms/step\n",
            "Epoch 26/30\n",
            "422/422 - 2s - loss: 0.1066 - accuracy: 0.9691 - val_loss: 0.1349 - val_accuracy: 0.9623 - 2s/epoch - 6ms/step\n",
            "Epoch 27/30\n",
            "422/422 - 2s - loss: 0.1027 - accuracy: 0.9705 - val_loss: 0.1331 - val_accuracy: 0.9633 - 2s/epoch - 6ms/step\n",
            "Epoch 28/30\n",
            "422/422 - 2s - loss: 0.0990 - accuracy: 0.9716 - val_loss: 0.1311 - val_accuracy: 0.9628 - 2s/epoch - 6ms/step\n",
            "Epoch 29/30\n",
            "422/422 - 3s - loss: 0.0954 - accuracy: 0.9724 - val_loss: 0.1273 - val_accuracy: 0.9652 - 3s/epoch - 6ms/step\n",
            "Epoch 30/30\n",
            "422/422 - 3s - loss: 0.0920 - accuracy: 0.9736 - val_loss: 0.1269 - val_accuracy: 0.9647 - 3s/epoch - 7ms/step\n",
            "================================================================================\n",
            "Assessing Test dataset...\n",
            "================================================================================\n"
          ]
        },
        {
          "output_type": "error",
          "ename": "NameError",
          "evalue": "ignored",
          "traceback": [
            "\u001b[0;31m---------------------------------------------------------------------------\u001b[0m",
            "\u001b[0;31mNameError\u001b[0m                                 Traceback (most recent call last)",
            "\u001b[0;32m<ipython-input-17-988b154e5f42>\u001b[0m in \u001b[0;36m<cell line: 44>\u001b[0;34m()\u001b[0m\n\u001b[1;32m     43\u001b[0m \u001b[0;34m\u001b[0m\u001b[0m\n\u001b[1;32m     44\u001b[0m results_table = [[\"Metric\", \"Value\"],\n\u001b[0;32m---> 45\u001b[0;31m                  \u001b[0;34m[\u001b[0m\u001b[0;34m\"Test Loss\"\u001b[0m\u001b[0;34m,\u001b[0m \u001b[0mtest_loss\u001b[0m\u001b[0;34m]\u001b[0m\u001b[0;34m,\u001b[0m\u001b[0;34m\u001b[0m\u001b[0;34m\u001b[0m\u001b[0m\n\u001b[0m\u001b[1;32m     46\u001b[0m                  [\"Test Accuracy\", test_accuracy]]\n\u001b[1;32m     47\u001b[0m \u001b[0;34m\u001b[0m\u001b[0m\n",
            "\u001b[0;31mNameError\u001b[0m: name 'test_loss' is not defined"
          ]
        },
        {
          "output_type": "display_data",
          "data": {
            "text/plain": [
              "<Figure size 640x480 with 1 Axes>"
            ],
            "image/png": "[encoded data removed]"
          },
          "metadata": {}
        }
      ],
      "source": [
        "# Defina los hiperparámetros\n",
        "batch_size = 128\n",
        "epochs = 30\n",
        "\n",
        "# Asegúrate de importar las bibliotecas necesarias\n",
        "from keras.utils import to_categorical\n",
        "import matplotlib.pyplot as plt\n",
        "import pandas as pd\n",
        "from tabulate import tabulate\n",
        "\n",
        "# Función para convertir las etiquetas a one-hot encoding\n",
        "def to_one_hot(labels, num_classes):\n",
        "    return to_categorical(labels, num_classes=num_classes)\n",
        "num_classes = 10\n",
        "# Convertir las etiquetas de prueba a one-hot encoding si no lo has hecho aún\n",
        "y_test_one_hot = to_one_hot(y_test, num_classes=num_classes)\n",
        "\n",
        "# Necesitamos compilar nuestro modelo\n",
        "model.compile(loss='categorical_crossentropy',\n",
        "              optimizer='Adadelta',\n",
        "              metrics=['accuracy'])\n",
        "\n",
        "# Entrenar\n",
        "logs = model.fit(x_train, y_train_one_hot,\n",
        "          batch_size=batch_size,\n",
        "          epochs=epochs,\n",
        "          verbose=2,\n",
        "          validation_split=0.1)\n",
        "\n",
        "# Graficar losses y el accuracy\n",
        "fig, ax = plt.subplots(1, 1)\n",
        "pd.DataFrame(logs.history).plot(ax=ax)\n",
        "ax.grid(linestyle='dotted')\n",
        "ax.legend()\n",
        "fig.canvas.draw()\n",
        "\n",
        "# Evaluar el rendimiento\n",
        "print('=' * 80)\n",
        "print('Assessing Test dataset...')\n",
        "print('=' * 80)\n",
        "# Mostrar los resultados en una tabla\n",
        "# Mostrar los resultados de cada época en una tabla\n",
        "\n",
        "results_table = [[\"Metric\", \"Value\"],\n",
        "                 [\"Test Loss\", test_loss],\n",
        "                 [\"Test Accuracy\", test_accuracy]]\n",
        "\n",
        "# Mostrar los resultados en una tabla\n",
        "#print(tabulate(results_table, headers=\"firstrow\", tablefmt=\"fancy_grid\"))\n",
        "\n",
        "score = model.evaluate(x_test, y_test_one_hot, verbose=2)\n",
        "test_loss, test_accuracy = score\n",
        "\n"
      ]
    },
    {
      "cell_type": "markdown",
      "metadata": {
        "collapsed": true,
        "id": "jmw21JqbktIS"
      },
      "source": [
        "# CIFAR\n",
        "\n",
        "La siguiente explicación de Cifar 10 proviene de [official cifar page](https://www.cs.toronto.edu/~kriz/cifar.html):\n",
        "\n",
        "CIFAR-10 y CIFAR-100 son subconjuntos etiquetados del dataset compuesto por <a href=\"http://people.csail.mit.edu/torralba/tinyimages/\">80 millones de imágenes pequeñas</a>. Fueron recolectados por Alex Krizhevsky, Vinod Nair y Geoffrey Hinton.\n",
        "\n",
        "\n",
        "## CIFAR10 Dataset\n",
        "\n",
        "El dataset CIFAR-10 consta de 60000 imágenes en color de $32 \\times 32$, compuesta por 10 clases, con 6000 imágenes por clase. Hay 50000 imágenes de entrenamiento y 10000 imágenes de prueba.\n",
        "\n",
        "El dataset se divide en cinco batches de entrenamiento y un batch de prueba, cada uno con 10000 imágenes. El batch de prueba contiene exactamente 1000 imágenes seleccionadas al azar de cada clase. Los batches de entrenamiento contienen el resto de imágenes en orden aleatorio, pero algunos batches de entrenamiento pueden contener más imágenes de una clase que de otra. Entre ellos, los batches de entrenamiento contienen exactamente 5000 imágenes de cada clase.\n",
        "\n",
        "Aquí están las clases del dataset, así como 10 imágenes aleatorias de cada una:\n",
        "<table>\n",
        "    <tr>\n",
        "        <td class=\"cifar-class-name\">airplane</td>\n",
        "        <td><img src=\"https://www.cs.toronto.edu/~kriz/cifar-10-sample/airplane1.png\" class=\"cifar-sample\" /></td>\n",
        "        <td><img src=\"https://www.cs.toronto.edu/~kriz/cifar-10-sample/airplane2.png\" class=\"cifar-sample\" /></td>\n",
        "        <td><img src=\"https://www.cs.toronto.edu/~kriz/cifar-10-sample/airplane3.png\" class=\"cifar-sample\" /></td>\n",
        "        <td><img src=\"https://www.cs.toronto.edu/~kriz/cifar-10-sample/airplane4.png\" class=\"cifar-sample\" /></td>\n",
        "        <td><img src=\"https://www.cs.toronto.edu/~kriz/cifar-10-sample/airplane5.png\" class=\"cifar-sample\" /></td>\n",
        "        <td><img src=\"https://www.cs.toronto.edu/~kriz/cifar-10-sample/airplane6.png\" class=\"cifar-sample\" /></td>\n",
        "        <td><img src=\"https://www.cs.toronto.edu/~kriz/cifar-10-sample/airplane7.png\" class=\"cifar-sample\" /></td>\n",
        "        <td><img src=\"https://www.cs.toronto.edu/~kriz/cifar-10-sample/airplane8.png\" class=\"cifar-sample\" /></td>\n",
        "        <td><img src=\"https://www.cs.toronto.edu/~kriz/cifar-10-sample/airplane9.png\" class=\"cifar-sample\" /></td>\n",
        "        <td><img src=\"https://www.cs.toronto.edu/~kriz/cifar-10-sample/airplane10.png\" class=\"cifar-sample\" /></td>\n",
        "    </tr>\n",
        "    <tr>\n",
        "        <td class=\"cifar-class-name\">automobile</td>\n",
        "        <td><img src=\"https://www.cs.toronto.edu/~kriz/cifar-10-sample/automobile1.png\" class=\"cifar-sample\" /></td>\n",
        "        <td><img src=\"https://www.cs.toronto.edu/~kriz/cifar-10-sample/automobile2.png\" class=\"cifar-sample\" /></td>\n",
        "        <td><img src=\"https://www.cs.toronto.edu/~kriz/cifar-10-sample/automobile3.png\" class=\"cifar-sample\" /></td>\n",
        "        <td><img src=\"https://www.cs.toronto.edu/~kriz/cifar-10-sample/automobile4.png\" class=\"cifar-sample\" /></td>\n",
        "        <td><img src=\"https://www.cs.toronto.edu/~kriz/cifar-10-sample/automobile5.png\" class=\"cifar-sample\" /></td>\n",
        "        <td><img src=\"https://www.cs.toronto.edu/~kriz/cifar-10-sample/automobile6.png\" class=\"cifar-sample\" /></td>\n",
        "        <td><img src=\"https://www.cs.toronto.edu/~kriz/cifar-10-sample/automobile7.png\" class=\"cifar-sample\" /></td>\n",
        "        <td><img src=\"https://www.cs.toronto.edu/~kriz/cifar-10-sample/automobile8.png\" class=\"cifar-sample\" /></td>\n",
        "        <td><img src=\"https://www.cs.toronto.edu/~kriz/cifar-10-sample/automobile9.png\" class=\"cifar-sample\" /></td>\n",
        "        <td><img src=\"https://www.cs.toronto.edu/~kriz/cifar-10-sample/automobile10.png\" class=\"cifar-sample\" /></td>\n",
        "    </tr>\n",
        "    <tr>\n",
        "        <td class=\"cifar-class-name\">bird</td>\n",
        "        <td><img src=\"https://www.cs.toronto.edu/~kriz/cifar-10-sample/bird1.png\" class=\"cifar-sample\" /></td>\n",
        "        <td><img src=\"https://www.cs.toronto.edu/~kriz/cifar-10-sample/bird2.png\" class=\"cifar-sample\" /></td>\n",
        "        <td><img src=\"https://www.cs.toronto.edu/~kriz/cifar-10-sample/bird3.png\" class=\"cifar-sample\" /></td>\n",
        "        <td><img src=\"https://www.cs.toronto.edu/~kriz/cifar-10-sample/bird4.png\" class=\"cifar-sample\" /></td>\n",
        "        <td><img src=\"https://www.cs.toronto.edu/~kriz/cifar-10-sample/bird5.png\" class=\"cifar-sample\" /></td>\n",
        "        <td><img src=\"https://www.cs.toronto.edu/~kriz/cifar-10-sample/bird6.png\" class=\"cifar-sample\" /></td>\n",
        "        <td><img src=\"https://www.cs.toronto.edu/~kriz/cifar-10-sample/bird7.png\" class=\"cifar-sample\" /></td>\n",
        "        <td><img src=\"https://www.cs.toronto.edu/~kriz/cifar-10-sample/bird8.png\" class=\"cifar-sample\" /></td>\n",
        "        <td><img src=\"https://www.cs.toronto.edu/~kriz/cifar-10-sample/bird9.png\" class=\"cifar-sample\" /></td>\n",
        "        <td><img src=\"https://www.cs.toronto.edu/~kriz/cifar-10-sample/bird10.png\" class=\"cifar-sample\" /></td>\n",
        "    </tr>\n",
        "    <tr>\n",
        "        <td class=\"cifar-class-name\">cat</td>\n",
        "        <td><img src=\"https://www.cs.toronto.edu/~kriz/cifar-10-sample/cat1.png\" class=\"cifar-sample\" /></td>\n",
        "        <td><img src=\"https://www.cs.toronto.edu/~kriz/cifar-10-sample/cat2.png\" class=\"cifar-sample\" /></td>\n",
        "        <td><img src=\"https://www.cs.toronto.edu/~kriz/cifar-10-sample/cat3.png\" class=\"cifar-sample\" /></td>\n",
        "        <td><img src=\"https://www.cs.toronto.edu/~kriz/cifar-10-sample/cat4.png\" class=\"cifar-sample\" /></td>\n",
        "        <td><img src=\"https://www.cs.toronto.edu/~kriz/cifar-10-sample/cat5.png\" class=\"cifar-sample\" /></td>\n",
        "        <td><img src=\"https://www.cs.toronto.edu/~kriz/cifar-10-sample/cat6.png\" class=\"cifar-sample\" /></td>\n",
        "        <td><img src=\"https://www.cs.toronto.edu/~kriz/cifar-10-sample/cat7.png\" class=\"cifar-sample\" /></td>\n",
        "        <td><img src=\"https://www.cs.toronto.edu/~kriz/cifar-10-sample/cat8.png\" class=\"cifar-sample\" /></td>\n",
        "        <td><img src=\"https://www.cs.toronto.edu/~kriz/cifar-10-sample/cat9.png\" class=\"cifar-sample\" /></td>\n",
        "        <td><img src=\"https://www.cs.toronto.edu/~kriz/cifar-10-sample/cat10.png\" class=\"cifar-sample\" /></td>\n",
        "    </tr>\n",
        "    <tr>\n",
        "        <td class=\"cifar-class-name\">deer</td>\n",
        "        <td><img src=\"https://www.cs.toronto.edu/~kriz/cifar-10-sample/deer1.png\" class=\"cifar-sample\" /></td>\n",
        "        <td><img src=\"https://www.cs.toronto.edu/~kriz/cifar-10-sample/deer2.png\" class=\"cifar-sample\" /></td>\n",
        "        <td><img src=\"https://www.cs.toronto.edu/~kriz/cifar-10-sample/deer3.png\" class=\"cifar-sample\" /></td>\n",
        "        <td><img src=\"https://www.cs.toronto.edu/~kriz/cifar-10-sample/deer4.png\" class=\"cifar-sample\" /></td>\n",
        "        <td><img src=\"https://www.cs.toronto.edu/~kriz/cifar-10-sample/deer5.png\" class=\"cifar-sample\" /></td>\n",
        "        <td><img src=\"https://www.cs.toronto.edu/~kriz/cifar-10-sample/deer6.png\" class=\"cifar-sample\" /></td>\n",
        "        <td><img src=\"https://www.cs.toronto.edu/~kriz/cifar-10-sample/deer7.png\" class=\"cifar-sample\" /></td>\n",
        "        <td><img src=\"https://www.cs.toronto.edu/~kriz/cifar-10-sample/deer8.png\" class=\"cifar-sample\" /></td>\n",
        "        <td><img src=\"https://www.cs.toronto.edu/~kriz/cifar-10-sample/deer9.png\" class=\"cifar-sample\" /></td>\n",
        "        <td><img src=\"https://www.cs.toronto.edu/~kriz/cifar-10-sample/deer10.png\" class=\"cifar-sample\" /></td>\n",
        "    </tr>\n",
        "    <tr>\n",
        "        <td class=\"cifar-class-name\">dog</td>\n",
        "        <td><img src=\"https://www.cs.toronto.edu/~kriz/cifar-10-sample/dog1.png\" class=\"cifar-sample\" /></td>\n",
        "        <td><img src=\"https://www.cs.toronto.edu/~kriz/cifar-10-sample/dog2.png\" class=\"cifar-sample\" /></td>\n",
        "        <td><img src=\"https://www.cs.toronto.edu/~kriz/cifar-10-sample/dog3.png\" class=\"cifar-sample\" /></td>\n",
        "        <td><img src=\"https://www.cs.toronto.edu/~kriz/cifar-10-sample/dog4.png\" class=\"cifar-sample\" /></td>\n",
        "        <td><img src=\"https://www.cs.toronto.edu/~kriz/cifar-10-sample/dog5.png\" class=\"cifar-sample\" /></td>\n",
        "        <td><img src=\"https://www.cs.toronto.edu/~kriz/cifar-10-sample/dog6.png\" class=\"cifar-sample\" /></td>\n",
        "        <td><img src=\"https://www.cs.toronto.edu/~kriz/cifar-10-sample/dog7.png\" class=\"cifar-sample\" /></td>\n",
        "        <td><img src=\"https://www.cs.toronto.edu/~kriz/cifar-10-sample/dog8.png\" class=\"cifar-sample\" /></td>\n",
        "        <td><img src=\"https://www.cs.toronto.edu/~kriz/cifar-10-sample/dog9.png\" class=\"cifar-sample\" /></td>\n",
        "        <td><img src=\"https://www.cs.toronto.edu/~kriz/cifar-10-sample/dog10.png\" class=\"cifar-sample\" /></td>\n",
        "    </tr>\n",
        "    <tr>\n",
        "        <td class=\"cifar-class-name\">frog</td>\n",
        "        <td><img src=\"https://www.cs.toronto.edu/~kriz/cifar-10-sample/frog1.png\" class=\"cifar-sample\" /></td>\n",
        "        <td><img src=\"https://www.cs.toronto.edu/~kriz/cifar-10-sample/frog2.png\" class=\"cifar-sample\" /></td>\n",
        "        <td><img src=\"https://www.cs.toronto.edu/~kriz/cifar-10-sample/frog3.png\" class=\"cifar-sample\" /></td>\n",
        "        <td><img src=\"https://www.cs.toronto.edu/~kriz/cifar-10-sample/frog4.png\" class=\"cifar-sample\" /></td>\n",
        "        <td><img src=\"https://www.cs.toronto.edu/~kriz/cifar-10-sample/frog5.png\" class=\"cifar-sample\" /></td>\n",
        "        <td><img src=\"https://www.cs.toronto.edu/~kriz/cifar-10-sample/frog6.png\" class=\"cifar-sample\" /></td>\n",
        "        <td><img src=\"https://www.cs.toronto.edu/~kriz/cifar-10-sample/frog7.png\" class=\"cifar-sample\" /></td>\n",
        "        <td><img src=\"https://www.cs.toronto.edu/~kriz/cifar-10-sample/frog8.png\" class=\"cifar-sample\" /></td>\n",
        "        <td><img src=\"https://www.cs.toronto.edu/~kriz/cifar-10-sample/frog9.png\" class=\"cifar-sample\" /></td>\n",
        "        <td><img src=\"https://www.cs.toronto.edu/~kriz/cifar-10-sample/frog10.png\" class=\"cifar-sample\" /></td>\n",
        "    </tr>\n",
        "    <tr>\n",
        "        <td class=\"cifar-class-name\">horse</td>\n",
        "        <td><img src=\"https://www.cs.toronto.edu/~kriz/cifar-10-sample/horse1.png\" class=\"cifar-sample\" /></td>\n",
        "        <td><img src=\"https://www.cs.toronto.edu/~kriz/cifar-10-sample/horse2.png\" class=\"cifar-sample\" /></td>\n",
        "        <td><img src=\"https://www.cs.toronto.edu/~kriz/cifar-10-sample/horse3.png\" class=\"cifar-sample\" /></td>\n",
        "        <td><img src=\"https://www.cs.toronto.edu/~kriz/cifar-10-sample/horse4.png\" class=\"cifar-sample\" /></td>\n",
        "        <td><img src=\"https://www.cs.toronto.edu/~kriz/cifar-10-sample/horse5.png\" class=\"cifar-sample\" /></td>\n",
        "        <td><img src=\"https://www.cs.toronto.edu/~kriz/cifar-10-sample/horse6.png\" class=\"cifar-sample\" /></td>\n",
        "        <td><img src=\"https://www.cs.toronto.edu/~kriz/cifar-10-sample/horse7.png\" class=\"cifar-sample\" /></td>\n",
        "        <td><img src=\"https://www.cs.toronto.edu/~kriz/cifar-10-sample/horse8.png\" class=\"cifar-sample\" /></td>\n",
        "        <td><img src=\"https://www.cs.toronto.edu/~kriz/cifar-10-sample/horse9.png\" class=\"cifar-sample\" /></td>\n",
        "        <td><img src=\"https://www.cs.toronto.edu/~kriz/cifar-10-sample/horse10.png\" class=\"cifar-sample\" /></td>\n",
        "    </tr>\n",
        "    <tr>\n",
        "        <td class=\"cifar-class-name\">ship</td>\n",
        "        <td><img src=\"https://www.cs.toronto.edu/~kriz/cifar-10-sample/ship1.png\" class=\"cifar-sample\" /></td>\n",
        "        <td><img src=\"https://www.cs.toronto.edu/~kriz/cifar-10-sample/ship2.png\" class=\"cifar-sample\" /></td>\n",
        "        <td><img src=\"https://www.cs.toronto.edu/~kriz/cifar-10-sample/ship3.png\" class=\"cifar-sample\" /></td>\n",
        "        <td><img src=\"https://www.cs.toronto.edu/~kriz/cifar-10-sample/ship4.png\" class=\"cifar-sample\" /></td>\n",
        "        <td><img src=\"https://www.cs.toronto.edu/~kriz/cifar-10-sample/ship5.png\" class=\"cifar-sample\" /></td>\n",
        "        <td><img src=\"https://www.cs.toronto.edu/~kriz/cifar-10-sample/ship6.png\" class=\"cifar-sample\" /></td>\n",
        "        <td><img src=\"https://www.cs.toronto.edu/~kriz/cifar-10-sample/ship7.png\" class=\"cifar-sample\" /></td>\n",
        "        <td><img src=\"https://www.cs.toronto.edu/~kriz/cifar-10-sample/ship8.png\" class=\"cifar-sample\" /></td>\n",
        "        <td><img src=\"https://www.cs.toronto.edu/~kriz/cifar-10-sample/ship9.png\" class=\"cifar-sample\" /></td>\n",
        "        <td><img src=\"https://www.cs.toronto.edu/~kriz/cifar-10-sample/ship10.png\" class=\"cifar-sample\" /></td>\n",
        "    </tr>\n",
        "    <tr>\n",
        "        <td class=\"cifar-class-name\">truck</td>\n",
        "        <td><img src=\"https://www.cs.toronto.edu/~kriz/cifar-10-sample/truck1.png\" class=\"cifar-sample\" /></td>\n",
        "        <td><img src=\"https://www.cs.toronto.edu/~kriz/cifar-10-sample/truck2.png\" class=\"cifar-sample\" /></td>\n",
        "        <td><img src=\"https://www.cs.toronto.edu/~kriz/cifar-10-sample/truck3.png\" class=\"cifar-sample\" /></td>\n",
        "        <td><img src=\"https://www.cs.toronto.edu/~kriz/cifar-10-sample/truck4.png\" class=\"cifar-sample\" /></td>\n",
        "        <td><img src=\"https://www.cs.toronto.edu/~kriz/cifar-10-sample/truck5.png\" class=\"cifar-sample\" /></td>\n",
        "        <td><img src=\"https://www.cs.toronto.edu/~kriz/cifar-10-sample/truck6.png\" class=\"cifar-sample\" /></td>\n",
        "        <td><img src=\"https://www.cs.toronto.edu/~kriz/cifar-10-sample/truck7.png\" class=\"cifar-sample\" /></td>\n",
        "        <td><img src=\"https://www.cs.toronto.edu/~kriz/cifar-10-sample/truck8.png\" class=\"cifar-sample\" /></td>\n",
        "        <td><img src=\"https://www.cs.toronto.edu/~kriz/cifar-10-sample/truck9.png\" class=\"cifar-sample\" /></td>\n",
        "        <td><img src=\"https://www.cs.toronto.edu/~kriz/cifar-10-sample/truck10.png\" class=\"cifar-sample\" /></td>\n",
        "    </tr>\n",
        "</table>\n",
        "\n",
        "Las clases son completamente excluyentes. No hay solapamiento entre los automóviles y los camiones. \"Automóvil\" incluye sedans, todoterrenos y cosas de ese tipo. \"Camión\" incluye sólo los camiones grandes. Tampoco incluye las camionetas."
      ]
    },
    {
      "cell_type": "markdown",
      "metadata": {
        "id": "PGzKEXhTktIS"
      },
      "source": [
        "En el siguiente ejemplo cargaremos los datos de CIFAR10.\n",
        "\n",
        "* **input** $\\rightarrow$ 60000 muestras de 3072 vectores dimensionales.\n",
        "    * Aquí se presentan como matrices de $32 \\times 32 \\times 3$  $\\rightarrow$ Imágenes de color\n",
        "* **target** $\\rightarrow$ 60000 escalares que indican una clase de 0 a 9\n",
        "\n",
        "<div class=\"alert alert-info\">\n",
        "  <strong>En el siguiente código:</strong>\n",
        "<ul>\n",
        "  <li>Cargaremos el dataset CIFAR10</li>\n",
        "  <li>Graficaremos la 5ª muestra del conjunto de entrenamiento</li>\n",
        "</ul>\n",
        "</div>"
      ]
    },
    {
      "cell_type": "code",
      "execution_count": null,
      "metadata": {
        "colab": {
          "base_uri": "https://localhost:8080/",
          "height": 743
        },
        "id": "UcsiXsiEktIS",
        "outputId": "3e0e1c42-8b37-42f2-f13c-68ddaf92ebfe"
      },
      "outputs": [
        {
          "output_type": "stream",
          "name": "stdout",
          "text": [
            "x_train shape: (50000, 32, 32, 3)\n",
            "50000 train samples\n",
            "10000 test samples\n",
            "Shape of x_train (50000, 32, 32, 3)\n",
            "Shape of y_train (50000, 1)\n",
            "Shape of x_test (50000, 32, 32, 3)\n",
            "Shape of y_test (50000, 1)\n"
          ]
        },
        {
          "output_type": "display_data",
          "data": {
            "text/plain": [
              "<Figure size 700x700 with 1 Axes>"
            ],
            "image/png": "[encoded data removed]"
          },
          "metadata": {}
        }
      ],
      "source": [
        "from keras.datasets import cifar10\n",
        "\n",
        "# Los datos divididos entre los conjuntos de entrenamiento y prueba\n",
        "(x_train, y_train), (x_test, y_test) = cifar10.load_data()\n",
        "\n",
        "print('x_train shape:', x_train.shape)\n",
        "print(x_train.shape[0], 'train samples')\n",
        "print(x_test.shape[0], 'test samples')\n",
        "\n",
        "target_2_class = {0:'airplane',\n",
        "                  1:'automobile',\n",
        "                  2:'bird',\n",
        "                  3:'cat',\n",
        "                  4:'deer',\n",
        "                  5:'dog',\n",
        "                  6:'frog',\n",
        "                  7:'horse',\n",
        "                  8:'ship',\n",
        "                  9:'truck'}\n",
        "\n",
        "# Código para graficar la 5ª muestra de entrenamiento.\n",
        "fig,ax1 = plt.subplots(1,1, figsize=(7,7))\n",
        "ax1.imshow(x_train[5])\n",
        "target = y_train[5][0]\n",
        "title = 'Target is {} - Class {}'.format(target_2_class[target],target )\n",
        "ax1.set_title(title)\n",
        "ax1.grid(which='Major')\n",
        "ax1.xaxis.set_major_locator(MaxNLocator(32))\n",
        "ax1.yaxis.set_major_locator(MaxNLocator(32))\n",
        "fig.canvas.draw()\n",
        "time.sleep(0.1)\n",
        "\n",
        "print('Shape of x_train {}'.format(x_train.shape))\n",
        "print('Shape of y_train {}'.format(y_train.shape))\n",
        "print('Shape of x_test {}'.format(x_train.shape))\n",
        "print('Shape of y_test {}'.format(y_train.shape))"
      ]
    },
    {
      "cell_type": "markdown",
      "metadata": {
        "id": "PQbX4D8SktIT"
      },
      "source": [
        "### Parte VIII: Codificación One-Hot para los Labels\n",
        "\n",
        "<div class=\"alert alert-success\">\n",
        "<strong>Tarea:</strong> Utilice la función `one_hot()` que creó anteriormente para codificar:\n",
        "<ul>\n",
        "  <li>`y_test`</li>\n",
        "  <li>`y_train`</li>\n",
        "</ul>\n",
        "</div>"
      ]
    },
    {
      "cell_type": "code",
      "execution_count": null,
      "metadata": {
        "colab": {
          "base_uri": "https://localhost:8080/"
        },
        "id": "lIv20dNDktIT",
        "outputId": "46695034-d73c-4fad-db74-666342622f90"
      },
      "outputs": [
        {
          "output_type": "stream",
          "name": "stdout",
          "text": [
            "Shape of x_train (60000, 28, 28, 1)\n",
            "Shape of y_train (60000,)\n",
            "Shape of x_test (60000, 28, 28, 1)\n",
            "Shape of y_test (60000,)\n"
          ]
        }
      ],
      "source": [
        "# Cargamos los datos del conjunto MNIST\n",
        "(x_train, y_train), (x_test, y_test) = \\\n",
        "    tf.keras.datasets.mnist.load_data()\n",
        "\n",
        "# Redimensionamos los datos para que tengan la dimensionalidad requerida\n",
        "x_train = x_train.reshape(x_train.shape[0], 28, 28, 1)\n",
        "x_test = x_test.reshape(x_test.shape[0], 28, 28, 1)\n",
        "\n",
        "# Codificar las etiquetas en caliente\n",
        "y_train_one_hot = one_hot(y_train, 10)\n",
        "y_test_one_hot = one_hot(y_test, 10)\n",
        "### *No* modifique las siguientes líneas ###\n",
        "# Imprima los tamaños de los datos (variables)\n",
        "print('Shape of x_train {}'.format(x_train.shape))\n",
        "print('Shape of y_train {}'.format(y_train.shape))\n",
        "print('Shape of x_test {}'.format(x_train.shape))\n",
        "print('Shape of y_test {}'.format(y_train.shape))"
      ]
    },
    {
      "cell_type": "markdown",
      "metadata": {
        "id": "faVclyzPktIU"
      },
      "source": [
        "### Parte IX: Normalizar las imágenes\n",
        "\n",
        "<div class=\"alert alert-success\">\n",
        "<strong>Tarea:</strong> Utilice la función `normalize_images()` que creó anteriormente para normalizar las imágenes en:\n",
        "<ul>\n",
        "  <li>`x_test`</li>\n",
        "  <li>`x_train`</li>\n",
        "</ul>\n",
        "</div>"
      ]
    },
    {
      "cell_type": "code",
      "execution_count": null,
      "metadata": {
        "id": "_2zM9zfjktIU"
      },
      "outputs": [],
      "source": [
        "x_train = x_train / 255.0\n",
        "x_test = x_test / 255.0"
      ]
    },
    {
      "cell_type": "markdown",
      "metadata": {
        "id": "FCoznG0xktIU"
      },
      "source": [
        "### Parte X: Cree su CNN para CIFAR10\n",
        "\n",
        "<div class=\"alert alert-success\">\n",
        "  <strong>Tarea:</strong> Cree un modelo de red neuronal para entrenar CIFAR usando lo que hemos aprendido hasta ahora.\n",
        "<ul>\n",
        "  <li>Cree una nueva red utilizando `net_1()` o `net_2()`</li>\n",
        "  <li>Mostrar un resumen de la red</li>.\n",
        "  <li>Compilar el modelo utilizando `Adadelta`, `Adagrad`, o `Adam` como su optimizador</li>\n",
        "</ul>\n",
        "Parte del código ya está rellenado, así que modifique lo que necesite.\n",
        "</div>"
      ]
    },
    {
      "cell_type": "code",
      "execution_count": null,
      "metadata": {
        "colab": {
          "base_uri": "https://localhost:8080/"
        },
        "id": "PJNDbpQaktIU",
        "outputId": "a20e21af-7591-4088-c32f-c5b5133ea7b7"
      },
      "outputs": [
        {
          "output_type": "stream",
          "name": "stdout",
          "text": [
            "Model: \"model_1\"\n",
            "_________________________________________________________________\n",
            " Layer (type)                Output Shape              Param #   \n",
            "=================================================================\n",
            " input_2 (InputLayer)        [(None, 28, 28, 1)]       0         \n",
            "                                                                 \n",
            " conv2d_5 (Conv2D)           (None, 26, 26, 32)        320       \n",
            "                                                                 \n",
            " conv2d_6 (Conv2D)           (None, 12, 12, 64)        18496     \n",
            "                                                                 \n",
            " conv2d_7 (Conv2D)           (None, 10, 10, 128)       73856     \n",
            "                                                                 \n",
            " flatten_2 (Flatten)         (None, 12800)             0         \n",
            "                                                                 \n",
            " dense_4 (Dense)             (None, 128)               1638528   \n",
            "                                                                 \n",
            " dense_5 (Dense)             (None, 10)                1290      \n",
            "                                                                 \n",
            "=================================================================\n",
            "Total params: 1732490 (6.61 MB)\n",
            "Trainable params: 1732490 (6.61 MB)\n",
            "Non-trainable params: 0 (0.00 Byte)\n",
            "_________________________________________________________________\n"
          ]
        }
      ],
      "source": [
        "# Dimensionalidad de la muestra\n",
        "sample_shape = x_train[0].shape\n",
        "\n",
        "# Construcción de la red\n",
        "model = net_2(sample_shape, 10)\n",
        "model.summary()\n",
        "\n",
        "# Necesitamos compilar nuestro modelo de red neuronal\n",
        "model.compile(loss='categorical_crossentropy',\n",
        "              optimizer='Adam',\n",
        "              metrics=['accuracy'])"
      ]
    },
    {
      "cell_type": "markdown",
      "metadata": {
        "id": "AEmGaoTvktIU"
      },
      "source": [
        "### Parte XI: Entrene su modelo\n",
        "\n",
        "<div class=\"alert alert-success\">\n",
        "  <strong>Tarea:</strong> : Entrenar el modelo creado en la celda anterior en CIFAR10.\n",
        "  <ul>\n",
        "  <li>Entrene la red utilizando `epochs = 30`</li>\n",
        "  <li>Entrene la red utilizando un `batch_size = 128`</li>\n",
        "  <li>Utilice `validation_split = 0.2` cuando llame a `fit()`</li>\n",
        "  <li>Planifica las pérdidas y la precisión</li>\n",
        "  <li>Evaluar el rendimiento en el conjunto de pruebas</li>.\n",
        "</ul>\n",
        "Le recomendamos que no copie y pegue de las celdas anteriores, sino que reescriba el código usted mismo. Siempre puedes echar un vistazo a las celdas anteriores si no estás seguro de lo que debes hacer.\n",
        "</div>"
      ]
    },
    {
      "cell_type": "code",
      "execution_count": null,
      "metadata": {
        "colab": {
          "base_uri": "https://localhost:8080/",
          "height": 1000
        },
        "id": "mFPDNcurzrSB",
        "outputId": "f1d8b8d5-50e5-4865-e033-98811a002220"
      },
      "outputs": [
        {
          "output_type": "stream",
          "name": "stdout",
          "text": [
            "Model: \"model_2\"\n",
            "_________________________________________________________________\n",
            " Layer (type)                Output Shape              Param #   \n",
            "=================================================================\n",
            " input_3 (InputLayer)        [(None, 32, 32, 3)]       0         \n",
            "                                                                 \n",
            " conv2d_8 (Conv2D)           (None, 30, 30, 32)        896       \n",
            "                                                                 \n",
            " conv2d_9 (Conv2D)           (None, 14, 14, 64)        18496     \n",
            "                                                                 \n",
            " conv2d_10 (Conv2D)          (None, 12, 12, 128)       73856     \n",
            "                                                                 \n",
            " flatten_3 (Flatten)         (None, 18432)             0         \n",
            "                                                                 \n",
            " dense_6 (Dense)             (None, 128)               2359424   \n",
            "                                                                 \n",
            " dense_7 (Dense)             (None, 10)                1290      \n",
            "                                                                 \n",
            "=================================================================\n",
            "Total params: 2453962 (9.36 MB)\n",
            "Trainable params: 2453962 (9.36 MB)\n",
            "Non-trainable params: 0 (0.00 Byte)\n",
            "_________________________________________________________________\n",
            "Epoch 1/30\n",
            "313/313 [==============================] - 6s 12ms/step - loss: 1.5203 - accuracy: 0.4489 - val_loss: 1.2558 - val_accuracy: 0.5534\n",
            "Epoch 2/30\n",
            "313/313 [==============================] - 3s 11ms/step - loss: 1.1200 - accuracy: 0.6028 - val_loss: 1.1100 - val_accuracy: 0.6123\n",
            "Epoch 3/30\n",
            "313/313 [==============================] - 3s 10ms/step - loss: 0.9088 - accuracy: 0.6824 - val_loss: 1.0370 - val_accuracy: 0.6383\n",
            "Epoch 4/30\n",
            "313/313 [==============================] - 3s 9ms/step - loss: 0.7522 - accuracy: 0.7369 - val_loss: 0.9513 - val_accuracy: 0.6720\n",
            "Epoch 5/30\n",
            "313/313 [==============================] - 3s 10ms/step - loss: 0.6095 - accuracy: 0.7876 - val_loss: 0.9631 - val_accuracy: 0.6733\n",
            "Epoch 6/30\n",
            "313/313 [==============================] - 3s 10ms/step - loss: 0.4573 - accuracy: 0.8403 - val_loss: 0.9985 - val_accuracy: 0.6896\n",
            "Epoch 7/30\n",
            "313/313 [==============================] - 3s 10ms/step - loss: 0.3178 - accuracy: 0.8897 - val_loss: 1.1584 - val_accuracy: 0.6801\n",
            "Epoch 8/30\n",
            "313/313 [==============================] - 3s 9ms/step - loss: 0.2087 - accuracy: 0.9296 - val_loss: 1.3080 - val_accuracy: 0.6841\n",
            "Epoch 9/30\n",
            "313/313 [==============================] - 3s 9ms/step - loss: 0.1275 - accuracy: 0.9576 - val_loss: 1.4975 - val_accuracy: 0.6794\n",
            "Epoch 10/30\n",
            "313/313 [==============================] - 3s 10ms/step - loss: 0.0860 - accuracy: 0.9721 - val_loss: 1.7115 - val_accuracy: 0.6780\n",
            "Epoch 11/30\n",
            "313/313 [==============================] - 4s 12ms/step - loss: 0.0663 - accuracy: 0.9786 - val_loss: 1.8820 - val_accuracy: 0.6709\n",
            "Epoch 12/30\n",
            "313/313 [==============================] - 3s 10ms/step - loss: 0.0642 - accuracy: 0.9793 - val_loss: 2.0379 - val_accuracy: 0.6678\n",
            "Epoch 13/30\n",
            "313/313 [==============================] - 3s 9ms/step - loss: 0.0640 - accuracy: 0.9784 - val_loss: 2.1024 - val_accuracy: 0.6642\n",
            "Epoch 14/30\n",
            "313/313 [==============================] - 3s 9ms/step - loss: 0.0494 - accuracy: 0.9836 - val_loss: 2.3792 - val_accuracy: 0.6626\n",
            "Epoch 15/30\n",
            "313/313 [==============================] - 3s 10ms/step - loss: 0.0536 - accuracy: 0.9815 - val_loss: 2.3771 - val_accuracy: 0.6499\n",
            "Epoch 16/30\n",
            "313/313 [==============================] - 3s 9ms/step - loss: 0.0585 - accuracy: 0.9807 - val_loss: 2.1799 - val_accuracy: 0.6612\n",
            "Epoch 17/30\n",
            "313/313 [==============================] - 3s 9ms/step - loss: 0.0517 - accuracy: 0.9824 - val_loss: 2.2739 - val_accuracy: 0.6696\n",
            "Epoch 18/30\n",
            "313/313 [==============================] - 3s 9ms/step - loss: 0.0402 - accuracy: 0.9865 - val_loss: 2.5153 - val_accuracy: 0.6666\n",
            "Epoch 19/30\n",
            "313/313 [==============================] - 3s 11ms/step - loss: 0.0367 - accuracy: 0.9879 - val_loss: 2.6641 - val_accuracy: 0.6592\n",
            "Epoch 20/30\n",
            "313/313 [==============================] - 3s 9ms/step - loss: 0.0337 - accuracy: 0.9890 - val_loss: 2.6664 - val_accuracy: 0.6644\n",
            "Epoch 21/30\n",
            "313/313 [==============================] - 3s 9ms/step - loss: 0.0374 - accuracy: 0.9874 - val_loss: 2.5496 - val_accuracy: 0.6597\n",
            "Epoch 22/30\n",
            "313/313 [==============================] - 3s 9ms/step - loss: 0.0435 - accuracy: 0.9854 - val_loss: 2.8409 - val_accuracy: 0.6627\n",
            "Epoch 23/30\n",
            "313/313 [==============================] - 3s 10ms/step - loss: 0.0373 - accuracy: 0.9874 - val_loss: 3.0523 - val_accuracy: 0.6600\n",
            "Epoch 24/30\n",
            "313/313 [==============================] - 3s 9ms/step - loss: 0.0395 - accuracy: 0.9865 - val_loss: 2.8318 - val_accuracy: 0.6670\n",
            "Epoch 25/30\n",
            "313/313 [==============================] - 3s 9ms/step - loss: 0.0308 - accuracy: 0.9897 - val_loss: 2.9622 - val_accuracy: 0.6561\n",
            "Epoch 26/30\n",
            "313/313 [==============================] - 3s 9ms/step - loss: 0.0413 - accuracy: 0.9863 - val_loss: 2.6778 - val_accuracy: 0.6581\n",
            "Epoch 27/30\n",
            "313/313 [==============================] - 3s 10ms/step - loss: 0.0235 - accuracy: 0.9921 - val_loss: 3.0642 - val_accuracy: 0.6607\n",
            "Epoch 28/30\n",
            "313/313 [==============================] - 3s 10ms/step - loss: 0.0260 - accuracy: 0.9908 - val_loss: 3.1709 - val_accuracy: 0.6653\n",
            "Epoch 29/30\n",
            "313/313 [==============================] - 3s 9ms/step - loss: 0.0447 - accuracy: 0.9861 - val_loss: 3.0843 - val_accuracy: 0.6662\n",
            "Epoch 30/30\n",
            "313/313 [==============================] - 3s 9ms/step - loss: 0.0489 - accuracy: 0.9842 - val_loss: 2.8848 - val_accuracy: 0.6625\n",
            "+---------------+---------+\n",
            "| Metric        |   Value |\n",
            "+===============+=========+\n",
            "| Test loss     | 3.01604 |\n",
            "+---------------+---------+\n",
            "| Test accuracy | 0.6498  |\n",
            "+---------------+---------+\n"
          ]
        },
        {
          "output_type": "display_data",
          "data": {
            "text/plain": [
              "<Figure size 640x480 with 1 Axes>"
            ],
            "image/png": "[encoded data removed]"
          },
          "metadata": {}
        },
        {
          "output_type": "display_data",
          "data": {
            "text/plain": [
              "<Figure size 640x480 with 1 Axes>"
            ],
            "image/png": "[encoded data removed]"
          },
          "metadata": {}
        }
      ],
      "source": [
        "def one_hot(vector, number_classes):\n",
        "    one_hot = []\n",
        "    for item in vector:\n",
        "        one_hot_encoded = [0] * number_classes\n",
        "        one_hot_encoded[int(item)] = 1\n",
        "        one_hot.append(one_hot_encoded)\n",
        "    return np.array(one_hot)\n",
        "# Codificar las etiquetas en caliente\n",
        "y_train_one_hot = one_hot(y_train, 10)\n",
        "y_test_one_hot = one_hot(y_test, 10)\n",
        "# Entrenando el modelo\n",
        "history = model.fit(x_train, y_train_one_hot,\n",
        "                    epochs=30,\n",
        "                    batch_size=128,\n",
        "                    validation_split=0.2)\n",
        "\n",
        "# Evaluando el rendimiento en el conjunto de pruebas\n",
        "score = model.evaluate(x_test, y_test_one_hot, verbose=0)\n",
        "\n",
        "# Crear una tabla con los resultados\n",
        "results = [[\"Metric\", \"Value\"],\n",
        "           [\"Test loss\", score[0]],\n",
        "           [\"Test accuracy\", score[1]]]\n",
        "\n",
        "# Imprimir la tabla\n",
        "print(tabulate(results, headers=\"firstrow\", tablefmt=\"grid\"))\n",
        "\n",
        "# Visualizamos las pérdidas y la precisión\n",
        "import matplotlib.pyplot as plt\n",
        "\n",
        "plt.plot(history.history['loss'], label='Loss')\n",
        "plt.plot(history.history['val_loss'], label='Validation Loss')\n",
        "plt.legend()\n",
        "plt.show()\n",
        "\n",
        "plt.plot(history.history['accuracy'], label='Accuracy')\n",
        "plt.plot(history.history['val_accuracy'], label='Validation Accuracy')\n",
        "plt.legend()\n",
        "plt.show()\n",
        "\n"
      ]
    },
    {
      "cell_type": "code",
      "execution_count": null,
      "metadata": {
        "id": "6okEJrRwZ0XZ"
      },
      "outputs": [],
      "source": []
    },
    {
      "cell_type": "markdown",
      "metadata": {
        "id": "x8Lm7Ie0ktIV"
      },
      "source": [
        "### Temas de reflexión\n",
        "\n",
        "* ¿Qué modelo funciona mejor?\n",
        "* ¿Qué optimizador funciona mejor?\n",
        "* ¿Existe alguna evidencia de overfitting?\n",
        "* ¿Cómo podemos mejorar aún más el rendimiento?"
      ]
    },
    {
      "cell_type": "code",
      "execution_count": null,
      "metadata": {
        "id": "6T1GK8XCktIV"
      },
      "outputs": [],
      "source": []
    }
  ],
  "metadata": {
    "accelerator": "GPU",
    "colab": {
      "provenance": []
    },
    "gpuClass": "standard",
    "kernelspec": {
      "display_name": "Python 3",
      "language": "python",
      "name": "python3"
    },
    "language_info": {
      "codemirror_mode": {
        "name": "ipython",
        "version": 3
      },
      "file_extension": ".py",
      "mimetype": "text/x-python",
      "name": "python",
      "nbconvert_exporter": "python",
      "pygments_lexer": "ipython3",
      "version": "3.8.3"
    }
  },
  "nbformat": 4,
  "nbformat_minor": 0
}